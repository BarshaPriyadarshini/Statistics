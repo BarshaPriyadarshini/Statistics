{
 "cells": [
  {
   "cell_type": "markdown",
   "metadata": {
    "colab_type": "text",
    "id": "0yzl3MKzf98L"
   },
   "source": [
    "<table align=\"center\" width=100%>\n",
    "    <tr>\n",
    "        <td width=\"20%\">\n",
    "            <img src=\"GL-2.png\">\n",
    "        </td>\n",
    "        <td>\n",
    "            <div align=\"center\">\n",
    "                <font color=\"#21618C\" size=8px>\n",
    "                    <b> Inclass-Lab  <br>(Day  3)\n",
    "                    </b>\n",
    "                </font>\n",
    "            </div>\n",
    "        </td>\n",
    "    </tr>\n",
    "</table>"
   ]
  },
  {
   "cell_type": "markdown",
   "metadata": {},
   "source": [
    "## Table of Content\n",
    "\n",
    "1. **[Import Libraries](#lib)**\n",
    "2. **[Parameter Estimation](#est)**\n",
    "3. **[Test of Hypothesis](#TOH)**\n",
    "\n"
   ]
  },
  {
   "cell_type": "markdown",
   "metadata": {},
   "source": [
    "<a id= \"lib\"></a>\n",
    "## 1. Import the required libraries"
   ]
  },
  {
   "cell_type": "code",
   "execution_count": 1,
   "metadata": {},
   "outputs": [],
   "source": [
    "# type your code here\n",
    "import pandas as pd \n",
    "import numpy as np\n",
    "import matplotlib.pyplot as plt\n",
    "import seaborn as sns\n",
    "from warnings import filterwarnings\n",
    "filterwarnings('ignore')\n",
    "import statistics\n",
    "from scipy import stats\n",
    "from statsmodels.stats import weightstats as stests\n",
    "from scipy.stats import shapiro\n",
    "from statsmodels.stats import power"
   ]
  },
  {
   "cell_type": "markdown",
   "metadata": {
    "colab_type": "text",
    "id": "psOYFu6zf98N"
   },
   "source": [
    "### Let's begin with some hands-on practice exercises"
   ]
  },
  {
   "cell_type": "markdown",
   "metadata": {
    "colab_type": "text",
    "id": "r4J-iIEhf98N"
   },
   "source": [
    "<a id = \"est\"> </a>\n",
    "## 2. Parameter Estimation"
   ]
  },
  {
   "cell_type": "markdown",
   "metadata": {},
   "source": [
    "<table align=\"left\">\n",
    "    <tr>\n",
    "        <td width=\"6%\">\n",
    "            <img src=\"question_icon.png\">\n",
    "        </td>\n",
    "        <td>\n",
    "            <div align=\"left\", style=\"font-size:120%\">\n",
    "                <font color=\"#21618C\">\n",
    "                    <b>1. The quality controller at the automobile company needs to know the average length of a steel rod produced in the company. He managed to collect the length (in cm) of 15 rods produced in the last week. Find the point estimate for the average length of the steel rod using sample data. </b>\n",
    "                </font>\n",
    "            </div>\n",
    "        </td>\n",
    "    </tr>\n",
    "</table>"
   ]
  },
  {
   "cell_type": "markdown",
   "metadata": {},
   "source": [
    "Given data:\n",
    "\n",
    "        len_rod (cm) = [25.2, 26.3, 28, 21.9, 23.4, 24, 27.2, 23, 29.2, 28.7, 23.1, 23.5, 26.4, 22.8, 24.7]"
   ]
  },
  {
   "cell_type": "code",
   "execution_count": 3,
   "metadata": {},
   "outputs": [
    {
     "name": "stdout",
     "output_type": "stream",
     "text": [
      "The point estimate for the average length of the steel rod is 25.16\n"
     ]
    }
   ],
   "source": [
    "# type your code here\n",
    "len_rod = [25.2, 26.3, 28, 21.9, 23.4, 24, 27.2, 23, 29.2, 28.7, 23.1, 23.5, 26.4, 22.8, 24.7]\n",
    "s_mean = np.mean(len_rod)\n",
    "print('The point estimate for the average length of the steel rod is', round(s_mean,2))"
   ]
  },
  {
   "cell_type": "markdown",
   "metadata": {
    "colab_type": "text",
    "id": "9qnEEhR4f98X"
   },
   "source": [
    "<table align=\"left\">\n",
    "    <tr>\n",
    "        <td width=\"6%\">\n",
    "            <img src=\"question_icon.png\">\n",
    "        </td>\n",
    "        <td>\n",
    "            <div align=\"left\", style=\"font-size:120%\">\n",
    "                <font color=\"#21618C\">\n",
    "                    <b>2. The meteorological department collected a sample of data for 20 summer days and wants to find the point estimate using below sample data.</b>\n",
    "                </font>\n",
    "            </div>\n",
    "        </td>\n",
    "    </tr>\n",
    "</table>"
   ]
  },
  {
   "cell_type": "markdown",
   "metadata": {},
   "source": [
    "Use the data given below:\n",
    "        \n",
    "            temp (in F) = [51, 68, 83, 93, 89, 58, 79, 54, 60, 77, 87, 57, 63, 85, 92, 74, 67, 88, 91, 82]"
   ]
  },
  {
   "cell_type": "code",
   "execution_count": 4,
   "metadata": {},
   "outputs": [
    {
     "name": "stdout",
     "output_type": "stream",
     "text": [
      "The point estimate for the sample of 20 summary days is 74.9\n"
     ]
    }
   ],
   "source": [
    "# type your code here\n",
    "temp = [51, 68, 83, 93, 89, 58, 79, 54, 60, 77, 87, 57, 63, 85, 92, 74, 67, 88, 91, 82]\n",
    "s_mean = np.mean(temp)\n",
    "print('The point estimate for the sample of 20 summary days is', round(s_mean,2))\n"
   ]
  },
  {
   "cell_type": "markdown",
   "metadata": {},
   "source": [
    "<a id= \"IE\"></a>\n",
    "### Interval Estimation:"
   ]
  },
  {
   "cell_type": "markdown",
   "metadata": {},
   "source": [
    "<table align=\"left\">\n",
    "    <tr>\n",
    "        <td width=\"6%\">\n",
    "            <img src=\"question_icon.png\">\n",
    "        </td>\n",
    "        <td>\n",
    "            <div align=\"left\", style=\"font-size:120%\">\n",
    "                <font color=\"#21618C\">\n",
    "                    <b>3. The production manager at tea emporium wants to estimate the weight of a green tea bag. The previous study shows that the standard deviation of weight is 2.3 g. The manager collects 65 tea bags for the study. How much margin of error the manager should be considered to estimate the weight with 99%  confidence. </b>\n",
    "                </font>\n",
    "            </div>\n",
    "        </td>\n",
    "    </tr>\n",
    "</table>"
   ]
  },
  {
   "cell_type": "code",
   "execution_count": 5,
   "metadata": {},
   "outputs": [
    {
     "name": "stdout",
     "output_type": "stream",
     "text": [
      "Margin of error to estimate the weight of green tea bag: 0.7348322992294252\n"
     ]
    }
   ],
   "source": [
    "# type your code here\n",
    "n = 65\n",
    "std = 2.3\n",
    "alpha = 0.01\n",
    "z_a_2 = stats.norm.isf(q = 0.01/2)\n",
    "ME = (z_a_2*std)/ np.sqrt(n)\n",
    "print('Margin of error to estimate the weight of green tea bag:', ME)"
   ]
  },
  {
   "cell_type": "markdown",
   "metadata": {},
   "source": [
    "<table align=\"left\">\n",
    "    <tr>\n",
    "        <td width=\"6%\">\n",
    "            <img src=\"question_icon.png\">\n",
    "        </td>\n",
    "        <td>\n",
    "            <div align=\"left\", style=\"font-size:120%\">\n",
    "                <font color=\"#21618C\">\n",
    "                    <b>4. The bank manager has received several fraud complaints from past  few weeks. The report from accountant states that the standard deviation in frauds is 16. The manager is ready to consider the margin of error as 5. To estimate the average number of frauds with 90% confidence how many transactions should the manager consider?</b>\n",
    "                </font>\n",
    "            </div>\n",
    "        </td>\n",
    "    </tr>\n",
    "</table>"
   ]
  },
  {
   "cell_type": "code",
   "execution_count": 6,
   "metadata": {},
   "outputs": [
    {
     "name": "stdout",
     "output_type": "stream",
     "text": [
      "Required number of transactions for the fraud detection study: 27.7\n"
     ]
    }
   ],
   "source": [
    "# type your code here\n",
    "std = 16\n",
    "ME = 5\n",
    "z_a_2 = stats.norm.isf(q = 0.1/2)\n",
    "n = ((z_a_2)**2)*(std**2)/(ME**2)\n",
    "\n",
    "print('Required number of transactions for the fraud detection study:', round(n,2))"
   ]
  },
  {
   "cell_type": "markdown",
   "metadata": {
    "colab_type": "text",
    "id": "V7QJT8W9f98T"
   },
   "source": [
    "<table align=\"left\">\n",
    "    <tr>\n",
    "        <td width=\"6%\">\n",
    "            <img src=\"question_icon.png\">\n",
    "        </td>\n",
    "        <td>\n",
    "            <div align=\"left\", style=\"font-size:120%\">\n",
    "                <font color=\"#21618C\">\n",
    "                    <b>5. A pediatrician wants to check the amount of sugar in the 100g pack of baby food produced by KidsGrow company. The medical journal states that a standard deviation of sugar in 100g pack is 8g. The pediatrician collects 37 packets of baby food and found that the average sugar is 24g. Find the 90% confidence interval for the population mean.</b>\n",
    "                </font>\n",
    "            </div>\n",
    "        </td>\n",
    "    </tr>\n",
    "</table>"
   ]
  },
  {
   "cell_type": "code",
   "execution_count": 7,
   "metadata": {},
   "outputs": [
    {
     "name": "stdout",
     "output_type": "stream",
     "text": [
      "The 90% confidence interval of population mean is: (21.83670183570907, 26.16329816429093)\n"
     ]
    }
   ],
   "source": [
    "# type your code here\n",
    "n = 37\n",
    "s_mean = 24 \n",
    "std = 8\n",
    "interval = stats.norm.interval(0.90, loc = s_mean, scale = std / np.sqrt(n))\n",
    "\n",
    "print('The 90% confidence interval of population mean is:', interval)"
   ]
  },
  {
   "cell_type": "markdown",
   "metadata": {
    "colab_type": "text",
    "id": "EFaFOXFTf99t"
   },
   "source": [
    "<table align=\"left\">\n",
    "    <tr>\n",
    "        <td width=\"6%\">\n",
    "            <img src=\"question_icon.png\">\n",
    "        </td>\n",
    "        <td>\n",
    "            <div align=\"left\", style=\"font-size:120%\">\n",
    "                <font color=\"#21618C\">\n",
    "                    <b>6. The NY university has opened the post of Astrophysics professor. The total number of applications was 36. To check the authenticity of the applicants a sample of 10 applications was collected, out of which 3 applicants were found to be a fraud. Construct the 95% confidence interval for the population proportion.</b>\n",
    "                </font>\n",
    "            </div>\n",
    "        </td>\n",
    "    </tr>\n",
    "</table>"
   ]
  },
  {
   "cell_type": "code",
   "execution_count": 9,
   "metadata": {},
   "outputs": [
    {
     "name": "stdout",
     "output_type": "stream",
     "text": [
      "95% confidence interval for population proportion is (0.015974234910674623, 0.5840257650893254)\n"
     ]
    }
   ],
   "source": [
    "# type your code here\n",
    "N = 36\n",
    "n = 10\n",
    "x=3\n",
    "p_samp = x/n\n",
    "interval = stats.norm.interval(0.95, loc = p_samp, scale = np.sqrt((p_samp*(1-p_samp))/n))\n",
    "\n",
    "print('95% confidence interval for population proportion is', interval)"
   ]
  },
  {
   "cell_type": "markdown",
   "metadata": {
    "colab_type": "text",
    "id": "QLSslfFdf98b"
   },
   "source": [
    "<a id= \"TOH\"></a>\n",
    "## 3. Test of Hypothesis"
   ]
  },
  {
   "cell_type": "markdown",
   "metadata": {},
   "source": [
    "<table align=\"left\">\n",
    "    <tr>\n",
    "        <td width=\"6%\">\n",
    "            <img src=\"question_icon.png\">\n",
    "        </td>\n",
    "        <td>\n",
    "            <div align=\"left\", style=\"font-size:120%\">\n",
    "                <font color=\"#21618C\">\n",
    "                    <b>7. The temperature (in degree Celsius) at Manhattan is recorded for 45 winter days. A student from the Geography department wants to test the claim proposed by the weather department. Check whether the given data satisfies the condition of normality with 99% confidence?</b>\n",
    "                </font>\n",
    "            </div>\n",
    "        </td>\n",
    "    </tr>\n",
    "</table>"
   ]
  },
  {
   "cell_type": "markdown",
   "metadata": {
    "colab_type": "text",
    "id": "YIaQZc58f98p"
   },
   "source": [
    "Use the data given below:\n",
    "        \n",
    "    temp_winter =  [2.51, 2.6, 1.8, 2.61, 3.9, 1.7, 1.9, 3.1, 1.58, 2.85, 2.9, 1.25, 1.3, 2.4, 3.22, 2.56, 1.32, 1.2, 1.26, \n",
    "                    3.2, 2.7, 3.5, 2.8, 1.5, 3.8, 1.84, 3.31, 1.24, 1.75, 1.41, 1.57, 1.4, 1.49, 2.26, 2.5, 2.52, 3.42, 1.36, \n",
    "                    2.35, 2.47, 2.28, 2.22, 2.66, 3.43, 1.98]"
   ]
  },
  {
   "cell_type": "code",
   "execution_count": 10,
   "metadata": {
    "scrolled": true
   },
   "outputs": [
    {
     "name": "stdout",
     "output_type": "stream",
     "text": [
      "P-Value: 0.03401985391974449\n"
     ]
    }
   ],
   "source": [
    "# type your code here\n",
    "\n",
    "#H0=data is normally distributed\n",
    "#H1=data is not normally distrubuted\n",
    "temp_winter = [2.51, 2.6, 1.8, 2.61, 3.9, 1.7, 1.9, 3.1, 1.58, 2.85, 2.9, 1.25, 1.3, 2.4, 3.22, 2.56, 1.32, 1.2, 1.26, 3.2,\n",
    "              2.7, 3.5, 2.8, 1.5, 3.8, 1.84, 3.31, 1.24, 1.75, 1.41, 1.57, 1.4, 1.49, 2.26, 2.5, 2.52, 3.42, 1.36, 2.35, \n",
    "              2.47, 2.28, 2.22, 2.66, 3.43, 1.98]\n",
    "\n",
    "stat, p_value = shapiro(temp_winter)\n",
    "print('P-Value:', p_value)"
   ]
  },
  {
   "cell_type": "raw",
   "metadata": {},
   "source": [
    "the p-value is greater than 0.01, and the decision is not to reject the null hypothesis"
   ]
  },
  {
   "cell_type": "markdown",
   "metadata": {},
   "source": [
    "<a id = \"LST\"> </a>\n",
    "### Large Sample Lest"
   ]
  },
  {
   "cell_type": "markdown",
   "metadata": {},
   "source": [
    "<a id= \"OSTZ\"></a>\n",
    "### One sample  Z Test"
   ]
  },
  {
   "cell_type": "markdown",
   "metadata": {},
   "source": [
    "<table align=\"left\">\n",
    "    <tr>\n",
    "        <td width=\"6%\">\n",
    "            <img src=\"question_icon.png\">\n",
    "        </td>\n",
    "        <td>\n",
    "            <div align=\"left\", style=\"font-size:120%\">\n",
    "                <font color=\"#21618C\">\n",
    "                    <b>8. Use the temperature data given in the previous question. The weather department claims that the average temperature in Manhattan is less than 2.8 degree celsius in winter. Test the department's claim using a critical value method with 99% confidence.</b>\n",
    "                </font>\n",
    "            </div>\n",
    "        </td>\n",
    "    </tr>\n",
    "</table>"
   ]
  },
  {
   "cell_type": "markdown",
   "metadata": {},
   "source": [
    "Use the data given below:\n",
    "        \n",
    "    temp_winter =  [2.51, 2.6, 1.8, 2.61, 3.9, 1.7, 1.9, 3.1, 1.58, 2.85, 2.9, 1.25, 1.3, 2.4, 3.22, 2.56, 1.32, 1.2, 1.26, \n",
    "                    3.2, 2.7, 3.5, 2.8, 1.5, 3.8, 1.84, 3.31, 1.24, 1.75, 1.41, 1.57, 1.4, 1.49, 2.26, 2.5, 2.52, 3.42, 1.36, \n",
    "                    2.35, 2.47, 2.28, 2.22, 2.66, 3.43, 1.98]"
   ]
  },
  {
   "cell_type": "code",
   "execution_count": 12,
   "metadata": {},
   "outputs": [
    {
     "name": "stdout",
     "output_type": "stream",
     "text": [
      "Critical value for one-tailed Z-test: 2.3263478740408408\n"
     ]
    }
   ],
   "source": [
    "\n",
    "#H0:  𝜇≥2.8 \n",
    "#H1:  𝜇<2.8\n",
    "temp_winter = [2.51, 2.6, 1.8, 2.61, 3.9, 1.7, 1.9, 3.1, 1.58, 2.85, 2.9, 1.25, 1.3, 2.4, 3.22, 2.56, 1.32, 1.2, 1.26, 3.2,\n",
    "              2.7, 3.5, 2.8, 1.5, 3.8, 1.84, 3.31, 1.24, 1.75, 1.41, 1.57, 1.4, 1.49, 2.26, 2.5, 2.52, 3.42, 1.36, 2.35, \n",
    "              2.47, 2.28, 2.22, 2.66, 3.43, 1.98]\n",
    "z_val = stats.norm.isf(q = 0.01)\n",
    "print('Critical value for one-tailed Z-test:', z_val)\n"
   ]
  },
  {
   "cell_type": "code",
   "execution_count": 13,
   "metadata": {},
   "outputs": [
    {
     "name": "stdout",
     "output_type": "stream",
     "text": [
      "z_score: -4.439552007491998\n"
     ]
    }
   ],
   "source": [
    "\n",
    "\n",
    "z_score, pval = stests.ztest(x1 = temp_winter, value = 2.8, alternative = 'smaller')\n",
    "\n",
    "print(\"z_score:\", z_score)"
   ]
  },
  {
   "cell_type": "raw",
   "metadata": {},
   "source": [
    "the test value is less than the critical value decision is to reject the null hypothesis"
   ]
  },
  {
   "cell_type": "markdown",
   "metadata": {
    "colab_type": "text",
    "id": "iZkGr2rTf98y"
   },
   "source": [
    "<table align=\"left\">\n",
    "    <tr>\n",
    "        <td width=\"6%\">\n",
    "            <img src=\"question_icon.png\">\n",
    "        </td>\n",
    "        <td>\n",
    "            <div align=\"left\", style=\"font-size:120%\">\n",
    "                <font color=\"#21618C\">\n",
    "                    <b>9. The bank manager claims that the complaints regarding fraud transactions are less than 12 per month with a standard deviation of 3 frauds. To test the claim the sample data for 3 years is collected. The average number of frauds per month in sample data is 14. Use the critical value method to test the claim with 95% confidence.</b>\n",
    "                </font>\n",
    "            </div>\n",
    "        </td>\n",
    "    </tr>\n",
    "</table>"
   ]
  },
  {
   "cell_type": "code",
   "execution_count": 14,
   "metadata": {
    "scrolled": true
   },
   "outputs": [
    {
     "name": "stdout",
     "output_type": "stream",
     "text": [
      "Critical value for one-tailed Z-test: 1.6448536269514729\n"
     ]
    }
   ],
   "source": [
    "# type your code here\n",
    "#H0:  𝜇 ≥12 \n",
    "#H1:  𝜇 <12\n",
    "z_val = stats.norm.isf(q = 0.05)\n",
    "\n",
    "print('Critical value for one-tailed Z-test:', z_val)"
   ]
  },
  {
   "cell_type": "code",
   "execution_count": 15,
   "metadata": {},
   "outputs": [
    {
     "name": "stdout",
     "output_type": "stream",
     "text": [
      "Z-score: -4.0\n"
     ]
    }
   ],
   "source": [
    "n = 36\n",
    "p_mean = 12\n",
    "p_std = 3\n",
    "s_mean = 10\n",
    "z_score = (s_mean - p_mean) / (p_std / np.sqrt(n))\n",
    "print(\"Z-score:\", z_score)"
   ]
  },
  {
   "cell_type": "raw",
   "metadata": {},
   "source": [
    "test value is less than the critical value and hence we reject the null hypothesis.# "
   ]
  },
  {
   "cell_type": "markdown",
   "metadata": {
    "collapsed": true
   },
   "source": [
    "<table align=\"left\">\n",
    "    <tr>\n",
    "        <td width=\"6%\">\n",
    "            <img src=\"question_icon.png\">\n",
    "        </td>\n",
    "        <td>\n",
    "            <div align=\"left\", style=\"font-size:120%\">\n",
    "                <font color=\"#21618C\">\n",
    "                    <b>10. The internet provider claims that their router gives a speed of 25 Mbps with a standard deviation of 4.8 Mbps. The computer engineer wants to check whether the speed is different than what the provider claims. For this study, the engineer collects the speed of 40 routers and found that the average speed is 23.2 Mbps for those 40 routers. Test the claim of engineer with 95% confidence.</b>\n",
    "                </font> \n",
    "            </div>\n",
    "        </td>\n",
    "    </tr>\n",
    "</table>"
   ]
  },
  {
   "cell_type": "code",
   "execution_count": 16,
   "metadata": {},
   "outputs": [
    {
     "name": "stdout",
     "output_type": "stream",
     "text": [
      "Critical value for two-tailed Z-test: 1.9599639845400545\n"
     ]
    }
   ],
   "source": [
    "#H0:𝜇 =25 \n",
    "#H1:𝜇 ≠25\n",
    "z_val = stats.norm.isf(q = 0.05/2)\n",
    "\n",
    "print('Critical value for two-tailed Z-test:', z_val)\n"
   ]
  },
  {
   "cell_type": "code",
   "execution_count": 18,
   "metadata": {},
   "outputs": [
    {
     "name": "stdout",
     "output_type": "stream",
     "text": [
      "Z-score: -2.37\n"
     ]
    }
   ],
   "source": [
    "n = 40\n",
    "p_mean = 25\n",
    "std = 4.8\n",
    "s_mean = 23.2\n",
    "z_score = (s_mean - p_mean) / (std / np.sqrt(n))\n",
    "print(\"Z-score:\", round(z_score,2))"
   ]
  },
  {
   "cell_type": "raw",
   "metadata": {},
   "source": [
    "the test value of -2.37 is less than the critical value of -1.96 we reject the null hypothesis"
   ]
  },
  {
   "cell_type": "markdown",
   "metadata": {
    "colab_type": "text",
    "id": "iOS1kKjWf983"
   },
   "source": [
    "<table align=\"left\">\n",
    "    <tr>\n",
    "        <td width=\"6%\">\n",
    "            <img src=\"question_icon.png\">\n",
    "        </td>\n",
    "        <td>\n",
    "            <div align=\"left\", style=\"font-size:120%\">\n",
    "                <font color=\"#21618C\">\n",
    "                    <b>11. The health magazine in New York states that every person in NY drinks more than 1.8 L water every day with a standard deviation of 0.5 L. To test this claim the physician collects the data of 45 people and found that the average water intake for these people is 1.93 L. Use the p-value technique to test the claim with 95% confidence.</b>\n",
    "                </font>\n",
    "            </div>\n",
    "        </td>\n",
    "    </tr>\n",
    "</table>"
   ]
  },
  {
   "cell_type": "code",
   "execution_count": 19,
   "metadata": {},
   "outputs": [
    {
     "name": "stdout",
     "output_type": "stream",
     "text": [
      "Z-score: 1.74\n"
     ]
    }
   ],
   "source": [
    "# H0:𝜇 ≤  1.8 \n",
    "#H1:𝜇 > 1.8\n",
    "n = 45\n",
    "p_mean = 1.8\n",
    "std = 0.5\n",
    "s_mean = 1.93\n",
    "z_score = (s_mean - p_mean) / (std / np.sqrt(n))\n",
    "print(\"Z-score:\", round(z_score,2))"
   ]
  },
  {
   "cell_type": "code",
   "execution_count": 21,
   "metadata": {},
   "outputs": [
    {
     "name": "stdout",
     "output_type": "stream",
     "text": [
      "p-value: 0.04\n"
     ]
    }
   ],
   "source": [
    "p_value = stats.norm.sf(z_score)\n",
    "print('p-value:', round(p_value,2))"
   ]
  },
  {
   "cell_type": "raw",
   "metadata": {},
   "source": [
    "p-value is greater than 0.01, thus we fail to reject the null hypothesis"
   ]
  },
  {
   "cell_type": "markdown",
   "metadata": {},
   "source": [
    "<a id=\"SST\"></a>\n",
    "### Small Sample Test"
   ]
  },
  {
   "cell_type": "markdown",
   "metadata": {},
   "source": [
    "<a id= \"OSTT\"></a>\n",
    "### One sample t Test"
   ]
  },
  {
   "cell_type": "markdown",
   "metadata": {},
   "source": [
    "<table align=\"left\">\n",
    "    <tr>\n",
    "        <td width=\"6%\">\n",
    "            <img src=\"question_icon.png\">\n",
    "        </td>\n",
    "        <td>\n",
    "            <div align=\"left\", style=\"font-size:120%\">\n",
    "                <font color=\"#21618C\">\n",
    "                    <b>12. The quality assurance department has collected 15 packets of potato chips. The department wants to test the average weight of the packets. Check whether they can use the one sample t-test for the population mean with 95% confidence.</b>\n",
    "                </font>\n",
    "            </div>\n",
    "        </td>\n",
    "    </tr>\n",
    "</table>"
   ]
  },
  {
   "cell_type": "markdown",
   "metadata": {},
   "source": [
    "Use the data given below:\n",
    "        \n",
    "    pack_wt = [26.8, 29.6, 27.8, 31.2, 30.9, 27.1, 28, 28.6, 29.4, 29.3, 31.5, 32.4, 29.7, 28.1, 31.9]"
   ]
  },
  {
   "cell_type": "code",
   "execution_count": 22,
   "metadata": {},
   "outputs": [
    {
     "name": "stdout",
     "output_type": "stream",
     "text": [
      "P-Value: 0.59\n"
     ]
    }
   ],
   "source": [
    "# type your code here\n",
    "pack_wt = [26.8, 29.6, 27.8, 31.2, 30.9, 27.1, 28, 28.6, 29.4, 29.3, 31.5, 32.4, 29.7, 28.1, 31.9]\n",
    "stat, p_value = shapiro(pack_wt)\n",
    "print('P-Value:', round(p_value,2))\n",
    "#p-value>0.05"
   ]
  },
  {
   "cell_type": "markdown",
   "metadata": {},
   "source": [
    "<table align=\"left\">\n",
    "    <tr>\n",
    "        <td width=\"6%\">\n",
    "            <img src=\"question_icon.png\">\n",
    "        </td>\n",
    "        <td>\n",
    "            <div align=\"left\", style=\"font-size:120%\">\n",
    "                <font color=\"#21618C\">\n",
    "                    <b>13. Use the weight of the potato chips packets given in the previous question and test whether the average weight of packet is more than 30 g. using p-value method. (Use 10% level of significance)</b>\n",
    "                </font>\n",
    "            </div>\n",
    "        </td>\n",
    "    </tr>\n",
    "</table>"
   ]
  },
  {
   "cell_type": "markdown",
   "metadata": {},
   "source": [
    "Use the data given below:\n",
    "        \n",
    "    pack_wt = [26.8, 29.6, 27.8, 31.2, 30.9, 27.1, 28, 28.6, 29.4, 29.3, 31.5, 32.4, 29.7, 28.1, 31.9]"
   ]
  },
  {
   "cell_type": "code",
   "execution_count": 25,
   "metadata": {},
   "outputs": [
    {
     "data": {
      "text/plain": [
       "0.8593171187217965"
      ]
     },
     "execution_count": 25,
     "metadata": {},
     "output_type": "execute_result"
    }
   ],
   "source": [
    "# H0: 𝜇 ≤30 \n",
    "#H1: 𝜇 >30\n",
    "pack_wt = [26.8, 29.6, 27.8, 31.2, 30.9, 27.1, 28, 28.6, 29.4, 29.3, 31.5, 32.4, 29.7, 28.1, 31.9]\n",
    "t_stat, p_val = stats.ttest_1samp(a = pack_wt, popmean = 30,alternative ='greater')\n",
    "p_val"
   ]
  },
  {
   "cell_type": "code",
   "execution_count": 26,
   "metadata": {},
   "outputs": [
    {
     "name": "stdout",
     "output_type": "stream",
     "text": [
      "Test Statistic: -1.12\n",
      "p-value: 0.43\n"
     ]
    }
   ],
   "source": [
    "req_p_val = p_val/2\n",
    "print('Test Statistic:', round(t_stat,2)) \n",
    "print('p-value:',round(req_p_val,2))"
   ]
  },
  {
   "cell_type": "raw",
   "metadata": {},
   "source": [
    " the p-value > 0.1, that implies we fail to reject "
   ]
  },
  {
   "cell_type": "markdown",
   "metadata": {},
   "source": [
    "<table align=\"left\">\n",
    "    <tr>\n",
    "        <td width=\"6%\">\n",
    "            <img src=\"question_icon.png\">\n",
    "        </td>\n",
    "        <td>\n",
    "            <div align=\"left\", style=\"font-size:120%\">\n",
    "                <font color=\"#21618C\">\n",
    "                    <b> 14. The orthopaedic surgeon states that a T-score for females older than 30 years is less than -1.2 which indicates the low bone density. To test the claim a sample of 10 women was selected and the average T-score was found to be -1.34 with a standard deviation of 0.8. Test the surgeon's claim  with 95% confidence. (Assume the normality of the T-score). </b>\n",
    "                </font>\n",
    "            </div>\n",
    "        </td>\n",
    "    </tr>\n",
    "</table>"
   ]
  },
  {
   "cell_type": "code",
   "execution_count": 27,
   "metadata": {
    "scrolled": true
   },
   "outputs": [
    {
     "name": "stdout",
     "output_type": "stream",
     "text": [
      "Critical value for one-tailed t-test: 1.83\n"
     ]
    }
   ],
   "source": [
    "# H0: 𝜇 ≥−1.2 \n",
    "# H1: 𝜇 <−1.2\n",
    "t_val = round(stats.t.isf(q = 0.05, df = 9), 2)\n",
    "\n",
    "print('Critical value for one-tailed t-test:', t_val)"
   ]
  },
  {
   "cell_type": "code",
   "execution_count": 31,
   "metadata": {},
   "outputs": [
    {
     "name": "stdout",
     "output_type": "stream",
     "text": [
      "test_stat: -0.55\n"
     ]
    }
   ],
   "source": [
    "n = 10\n",
    "pop_mean = -1.2\n",
    "samp_mean = -1.34\n",
    "samp_std = 0.8\n",
    "\n",
    "t_score = (samp_mean - pop_mean) / (samp_std / np.sqrt(n))\n",
    "print(\"test_stat:\", round(t_score,2))"
   ]
  },
  {
   "cell_type": "raw",
   "metadata": {},
   "source": [
    "the test statistic value is greater than -1.83. Thus, we fail to reject the null hypothesis"
   ]
  }
 ],
 "metadata": {
  "colab": {
   "name": "ITP - In-Class Lab Exercise (Day1) - Solutions [V1.0 030120].ipynb",
   "provenance": []
  },
  "kernelspec": {
   "display_name": "Python 3 (ipykernel)",
   "language": "python",
   "name": "python3"
  },
  "language_info": {
   "codemirror_mode": {
    "name": "ipython",
    "version": 3
   },
   "file_extension": ".py",
   "mimetype": "text/x-python",
   "name": "python",
   "nbconvert_exporter": "python",
   "pygments_lexer": "ipython3",
   "version": "3.9.7"
  }
 },
 "nbformat": 4,
 "nbformat_minor": 1
}

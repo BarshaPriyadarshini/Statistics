{
 "cells": [
  {
   "cell_type": "markdown",
   "id": "f6cbd6d4",
   "metadata": {},
   "source": [
    "<table align=\"center\" width=100%>\n",
    "    <tr>\n",
    "        <td width=\"20%\">\n",
    "            <img src=\"GL-2.png\">\n",
    "        </td>\n",
    "        <td>\n",
    "            <div align=\"center\">\n",
    "                <font color=\"#21618C\" size=8px>\n",
    "                    <b> Take Home <br>(Day 3)\n",
    "                    </b>\n",
    "                </font>\n",
    "            </div>\n",
    "        </td>\n",
    "    </tr>\n",
    "</table>"
   ]
  },
  {
   "cell_type": "markdown",
   "id": "922a354b",
   "metadata": {},
   "source": [
    "**Import the required libraries**"
   ]
  },
  {
   "cell_type": "code",
   "execution_count": 1,
   "id": "1dca02ed",
   "metadata": {},
   "outputs": [],
   "source": [
    "import pandas as pd \n",
    "import numpy as np\n",
    "import matplotlib.pyplot as plt\n",
    "import seaborn as sns\n",
    "from warnings import filterwarnings\n",
    "filterwarnings('ignore')\n",
    "import statistics\n",
    "from scipy import stats\n",
    "from statsmodels.stats import weightstats as stests\n",
    "from scipy.stats import shapiro\n",
    "from statsmodels.stats import power"
   ]
  },
  {
   "cell_type": "markdown",
   "id": "ee80dd9c",
   "metadata": {},
   "source": [
    "### Let's begin with some hands-on practice exercises"
   ]
  },
  {
   "cell_type": "markdown",
   "id": "522e72cc",
   "metadata": {},
   "source": [
    "### Parameter Estimation"
   ]
  },
  {
   "cell_type": "markdown",
   "id": "48be347a",
   "metadata": {},
   "source": [
    "<table align=\"left\">\n",
    "    <tr>\n",
    "        <td width=\"6%\">\n",
    "            <img src=\"question_icon.png\">\n",
    "        </td>\n",
    "        <td>\n",
    "            <div align=\"left\", style=\"font-size:120%\">\n",
    "                <font color=\"#21618C\">\n",
    "                    <b>1.Great Learning collected 500 students grades. From them, a sample of 70 students was selected, out of which 65 students were outstanding performers. Can you estimate the total number of outstanding performers? </b>\n",
    "                </font>\n",
    "            </div>\n",
    "        </td>\n",
    "    </tr>\n",
    "</table>"
   ]
  },
  {
   "cell_type": "code",
   "execution_count": 2,
   "id": "2bcae305",
   "metadata": {},
   "outputs": [
    {
     "name": "stdout",
     "output_type": "stream",
     "text": [
      "The number of outperforming students: 464\n"
     ]
    }
   ],
   "source": [
    "# type solution here\n",
    "N = 500\n",
    "n = 70\n",
    "x = 65\n",
    "p_samp = x/n\n",
    "num_out_stu = p_samp*N\n",
    "print('The number of outperforming students:', round(num_out_stu))"
   ]
  },
  {
   "cell_type": "markdown",
   "id": "fe9b000f",
   "metadata": {},
   "source": [
    "<table align=\"left\">\n",
    "    <tr>\n",
    "        <td width=\"6%\">\n",
    "            <img src=\"question_icon.png\">\n",
    "        </td>\n",
    "        <td>\n",
    "            <div align=\"left\", style=\"font-size:120%\">\n",
    "                <font color=\"#21618C\">\n",
    "                    <b>2. Great Learning has collected 500 students grades. From them, A sample of 70 students marks was selected, out of which 6 students were underperformers. Estimate the population propotion with 95% confidence interval. \n",
    "</b>\n",
    "                </font>\n",
    "            </div>\n",
    "        </td>\n",
    "    </tr>\n",
    "</table>"
   ]
  },
  {
   "cell_type": "code",
   "execution_count": 3,
   "id": "18c2f8b9",
   "metadata": {},
   "outputs": [
    {
     "name": "stdout",
     "output_type": "stream",
     "text": [
      "95% confidence interval for population proportion is (0.020135005868943887, 0.15129356555962753)\n"
     ]
    }
   ],
   "source": [
    "# type solution here\n",
    "N = 500\n",
    "n = 70\n",
    "x = 6\n",
    "p_samp = x/n\n",
    "interval = stats.norm.interval(0.95, loc = p_samp, scale = np.sqrt((p_samp*(1-p_samp))/n))\n",
    "\n",
    "print('95% confidence interval for population proportion is', interval)"
   ]
  },
  {
   "cell_type": "markdown",
   "id": "c9772c43",
   "metadata": {},
   "source": [
    "<table align=\"left\">\n",
    "    <tr>\n",
    "        <td width=\"6%\">\n",
    "            <img src=\"question_icon.png\">\n",
    "        </td>\n",
    "        <td>\n",
    "            <div align=\"left\", style=\"font-size:120%\">\n",
    "                <font color=\"#21618C\">\n",
    "                    <b>3. A team of IT experts wants to estimate the average time required to a system to run a specific program. The team aims to estimate the average time with 95% confidence. A technical report from last week shows that the standard deviation is 3.8 minutes. The team decides that the margin of error should be 1.2 minutes. How many systems should the team choose for the estimation? </b>\n",
    "                </font>\n",
    "            </div>\n",
    "        </td>\n",
    "    </tr>\n",
    "</table>"
   ]
  },
  {
   "cell_type": "code",
   "execution_count": 4,
   "id": "f554c3f5",
   "metadata": {},
   "outputs": [
    {
     "name": "stdout",
     "output_type": "stream",
     "text": [
      "Required number of systems for the time estimation study: 39\n"
     ]
    }
   ],
   "source": [
    "# type solution here\n",
    "std= 3.8\n",
    "ME = 1.2 \n",
    "z_alpha_by_2 = stats.norm.isf(q = 0.05/2)\n",
    "n = ((z_alpha_by_2)**2)*(std**2)/(ME**2)\n",
    "\n",
    "print('Required number of systems for the time estimation study:', round(n))"
   ]
  },
  {
   "cell_type": "markdown",
   "id": "70d22f38",
   "metadata": {},
   "source": [
    "<table align=\"left\">\n",
    "    <tr>\n",
    "        <td width=\"6%\">\n",
    "            <img src=\"question_icon.png\">\n",
    "        </td>\n",
    "        <td>\n",
    "            <div align=\"left\", style=\"font-size:120%\">\n",
    "                <font color=\"#21618C\">\n",
    "                    <b>4. The production manager at the Xen Sewing Factory claims that on average the diameter of a class 14M bobbin is less than 18 mm. The previous study shows that the standard deviation is 1.7 mm. Consider a sample of 40 class 14M bobbins from a normally distributed population with sample mean diameter as 17.5 mm. Calculate 99% confidence interval for the population mean diameter.\n",
    "</b>\n",
    "                </font>\n",
    "            </div>\n",
    "        </td>\n",
    "    </tr>\n",
    "</table>"
   ]
  },
  {
   "cell_type": "code",
   "execution_count": 5,
   "id": "f92e8eaa",
   "metadata": {},
   "outputs": [
    {
     "name": "stdout",
     "output_type": "stream",
     "text": [
      "The 99% confidence interval of population mean is (16.80763356564332, 18.19236643435668)\n"
     ]
    }
   ],
   "source": [
    "# type solution here\n",
    "n = 40\n",
    "std = 1.7\n",
    "s_mean = 17.5\n",
    "\n",
    "interval = stats.norm.interval(0.99, loc = s_mean, scale = std / np.sqrt(n))\n",
    "\n",
    "print('The 99% confidence interval of population mean is', interval)"
   ]
  },
  {
   "cell_type": "markdown",
   "id": "a635eed0",
   "metadata": {},
   "source": [
    "<table align=\"left\">\n",
    "    <tr>\n",
    "        <td width=\"6%\">\n",
    "            <img src=\"question_icon.png\">\n",
    "        </td>\n",
    "        <td>\n",
    "            <div align=\"left\", style=\"font-size:120%\">\n",
    "                <font color=\"#21618C\">\n",
    "                    <b>5. A construction company wants to estimate the daily wages of contract workers. In the construction business, the wages of contract workers follow the normal distribution with a standard deviation of 85 dollars. A sample of wages for 50 contract workers is considered for the study. Calculate the margin of error for a 95% confidence level.</b>\n",
    "                </font>\n",
    "            </div>\n",
    "        </td>\n",
    "    </tr>\n",
    "</table>"
   ]
  },
  {
   "cell_type": "code",
   "execution_count": 6,
   "id": "f2b12361",
   "metadata": {},
   "outputs": [
    {
     "name": "stdout",
     "output_type": "stream",
     "text": [
      "Margin of error: 23.56\n"
     ]
    }
   ],
   "source": [
    "# type solution here\n",
    "n = 50\n",
    "std = 85\n",
    "alpha = 0.95\n",
    "z_alpha_by_2 = stats.norm.isf(q = 0.05/2)\n",
    "\n",
    "ME = (z_alpha_by_2*std)/ np.sqrt(n)\n",
    "print('Margin of error:', round(ME,2))"
   ]
  },
  {
   "cell_type": "markdown",
   "id": "01bb245d",
   "metadata": {},
   "source": [
    "<table align=\"left\">\n",
    "    <tr>\n",
    "        <td width=\"6%\">\n",
    "            <img src=\"question_icon.png\">\n",
    "        </td>\n",
    "        <td>\n",
    "            <div align=\"left\", style=\"font-size:120%\">\n",
    "                <font color=\"#21618C\">\n",
    "                    <b>6. The physical trainer at a university wants to estimate the average height of students at the university. The trainer collects the data of 100 students and found that the average height is 168 cm with a standard deviation of 12 cm. Find the 95% confidence interval for the population average height.</b>\n",
    "                </font>\n",
    "            </div>\n",
    "        </td>\n",
    "    </tr>\n",
    "</table>"
   ]
  },
  {
   "cell_type": "code",
   "execution_count": 7,
   "id": "0758417d",
   "metadata": {},
   "outputs": [
    {
     "name": "stdout",
     "output_type": "stream",
     "text": [
      "95% confidence interval for population average height is (165.64804321855195, 170.35195678144805)\n"
     ]
    }
   ],
   "source": [
    "# type solution here\n",
    "n = 100 \n",
    "sample_avg = 168\n",
    "sample_std = 12\n",
    "interval = stats.norm.interval(0.95, loc = sample_avg, scale = sample_std/np.sqrt(n))\n",
    "print('95% confidence interval for population average height is', interval)"
   ]
  },
  {
   "cell_type": "markdown",
   "id": "30c8762b",
   "metadata": {},
   "source": [
    "<table align=\"left\">\n",
    "    <tr>\n",
    "        <td width=\"6%\">\n",
    "            <img src=\"question_icon.png\">\n",
    "        </td>\n",
    "        <td>\n",
    "            <div align=\"left\", style=\"font-size:120%\">\n",
    "                <font color=\"#21618C\">\n",
    "                    <b>7. To study the climate changes, a sample of data of temperature in California is collected for 20 summer days. Calculate 95% confidence interval for the population mean temperature.</b>\n",
    "                </font>\n",
    "            </div>\n",
    "        </td>\n",
    "    </tr>\n",
    "</table>"
   ]
  },
  {
   "cell_type": "markdown",
   "id": "0af07b72",
   "metadata": {},
   "source": [
    "Use the data given below:\n",
    "        \n",
    "            temp (in F) = [51, 68, 83, 93, 89, 58, 79, 54, 60, 77, 87, 57, 63, 85, 92, 74, 67, 88, 91, 82]"
   ]
  },
  {
   "cell_type": "code",
   "execution_count": 8,
   "id": "cc1767f6",
   "metadata": {},
   "outputs": [
    {
     "name": "stdout",
     "output_type": "stream",
     "text": [
      "95% confidence interval for population mean is (68.34797425774923, 81.45202574225078)\n"
     ]
    }
   ],
   "source": [
    "temp = [51, 68, 83, 93, 89, 58, 79, 54, 60, 77, 87, 57, 63, 85, 92, 74, 67, 88, 91, 82]\n",
    "n = len(temp)\n",
    "s_mean = np.mean(temp)\n",
    "s_std = statistics.stdev(temp)\n",
    "\n",
    "interval = stats.t.interval(0.95, df = n-1, loc = s_mean, scale = s_std/np.sqrt(n))\n",
    "print('95% confidence interval for population mean is', interval)"
   ]
  },
  {
   "cell_type": "markdown",
   "id": "eb19c606",
   "metadata": {},
   "source": [
    "<table align=\"left\">\n",
    "    <tr>\n",
    "        <td width=\"6%\">\n",
    "            <img src=\"question_icon.png\">\n",
    "        </td>\n",
    "        <td>\n",
    "            <div align=\"left\", style=\"font-size:120%\">\n",
    "                <font color=\"#21618C\">\n",
    "                    <b>8. The health magazine in Los Angeles states that a person should drink 1.8 L water every day. To study this statement, the physician collects the data of 15 people and found that the average water intake for these people is 1.6 L with a standard deviation of 0.5 L. Calculate the 90% confidence interval for the population average water intake.</b>\n",
    "                </font>\n",
    "            </div>\n",
    "        </td>\n",
    "    </tr>\n",
    "</table>"
   ]
  },
  {
   "cell_type": "code",
   "execution_count": 9,
   "id": "7e4c328e",
   "metadata": {},
   "outputs": [
    {
     "name": "stdout",
     "output_type": "stream",
     "text": [
      "90% confidence interval for population mean is (1.3726158392212553, 1.8273841607787449)\n"
     ]
    }
   ],
   "source": [
    "\n",
    "n = 15 \n",
    "s_mean= 1.6\n",
    "s_std = 0.5\n",
    " \n",
    "interval = stats.t.interval(0.90, df = n-1, loc = s_mean, scale = s_std/np.sqrt(n))\n",
    "\n",
    "print('90% confidence interval for population mean is', interval)"
   ]
  },
  {
   "cell_type": "markdown",
   "id": "593e06f9",
   "metadata": {},
   "source": [
    "## Hypothesis Testing"
   ]
  },
  {
   "cell_type": "markdown",
   "id": "17e8c15d",
   "metadata": {},
   "source": [
    "<table align=\"left\">\n",
    "    <tr>\n",
    "        <td width=\"6%\">\n",
    "            <img src=\"question_icon.png\">\n",
    "        </td>\n",
    "        <td>\n",
    "            <div align=\"left\", style=\"font-size:120%\">\n",
    "                <font color=\"#21618C\">\n",
    "                    <b>9. The quality assurance department claims that on average the non-fat yogurt contains less than 148 mg of potassium per 100 g pack. To check this claim 35 packs of yogurt are collected and the content of potassium is recorded. Can we use the Z-test to test the claim of the quality assurance department at  α = 0.05.   \n",
    "</b>\n",
    "                </font>\n",
    "            </div>\n",
    "        </td>\n",
    "    </tr>\n",
    "</table>"
   ]
  },
  {
   "cell_type": "raw",
   "id": "e2581f53",
   "metadata": {},
   "source": [
    "pot_mg = [151, 159, 168, 146, 129, 147, 149, 141, 150, 158, 119, 125, 139, 154, 163, 156, 132, 137, 126, 152,\n",
    "          127, 135, 138, 145, 128, 148, 153, 124, 170, 134, 157, 164, 144, 160, 161]\n"
   ]
  },
  {
   "cell_type": "code",
   "execution_count": 10,
   "id": "b7b0d992",
   "metadata": {},
   "outputs": [
    {
     "name": "stdout",
     "output_type": "stream",
     "text": [
      "P-Value: 0.43\n"
     ]
    }
   ],
   "source": [
    "# type solution here\n",
    "pot_mg = [151, 159, 168, 146, 129, 147, 149, 141, 150, 158, 119, 125, 139, 154, 163, 156, 132, 137, 126, 152,\n",
    "          127, 135, 138, 145, 128, 148, 153, 124, 170, 134, 157, 164, 144, 160, 161]\n",
    "stat, p_value = shapiro(pot_mg)\n",
    "p_value = round(p_value,2)\n",
    "print('P-Value:', p_value)"
   ]
  },
  {
   "cell_type": "raw",
   "id": "6a81af75",
   "metadata": {},
   "source": [
    "P-value > alpha and hence the null value should not be rejected"
   ]
  },
  {
   "cell_type": "markdown",
   "id": "5c4e1601",
   "metadata": {},
   "source": [
    "<table align=\"left\">\n",
    "    <tr>\n",
    "        <td width=\"6%\">\n",
    "            <img src=\"question_icon.png\">\n",
    "        </td>\n",
    "        <td>\n",
    "            <div align=\"left\", style=\"font-size:120%\">\n",
    "                <font color=\"#21618C\">\n",
    "                    <b>10. The quality assurance department claims that on average the non-fat yogurt contains less than 148 mg of potassium per 100 g pack. To check this claim 35 packs of yogurt are collected and the content of potassium is recorded. Use 0.05 as a level of significance to test the claim using p-value technique.   \n",
    "</b>\n",
    "                </font>\n",
    "            </div>\n",
    "        </td>\n",
    "    </tr>\n",
    "</table>"
   ]
  },
  {
   "cell_type": "markdown",
   "id": "411bd4f6",
   "metadata": {},
   "source": [
    "Use the data given below:\n",
    "        \n",
    "          pot_mg = [151, 159, 168, 146, 129, 147, 149, 141, 150, 158, 119, 125, 139, 154, 163, 156, 132, 137, 126, 152,\n",
    "                    127, 135, 138, 145, 128, 148, 153, 124, 170, 134, 157, 164, 144, 160, 161]"
   ]
  },
  {
   "cell_type": "code",
   "execution_count": 11,
   "id": "ebecdac6",
   "metadata": {},
   "outputs": [
    {
     "name": "stdout",
     "output_type": "stream",
     "text": [
      "p-value:  0.13\n"
     ]
    }
   ],
   "source": [
    "#H0:  𝜇 ≥148 \n",
    "#H1:  𝜇 <148\n",
    "pot_mg = [151, 159, 168, 146, 129, 147, 149, 141, 150, 158, 119, 125, 139, 154, 163, 156, 132, 137, 126, 152,\n",
    "          127, 135, 138, 145, 128, 148, 153, 124, 170, 134, 157, 164, 144, 160, 161]\n",
    "z_score, pval = stests.ztest(x1 = pot_mg, value = 148, alternative = 'smaller')\n",
    "\n",
    "\n",
    "print(\"p-value: \", round(pval,2))"
   ]
  },
  {
   "cell_type": "raw",
   "id": "c65bacf3",
   "metadata": {},
   "source": [
    "p-value > 0.05 hence the decision is not to reject the null hypothesis"
   ]
  },
  {
   "cell_type": "markdown",
   "id": "e348e1fb",
   "metadata": {},
   "source": [
    "<table align=\"left\">\n",
    "    <tr>\n",
    "        <td width=\"6%\">\n",
    "            <img src=\"question_icon.png\">\n",
    "        </td>\n",
    "        <td>\n",
    "            <div align=\"left\", style=\"font-size:120%\">\n",
    "                <font color=\"#21618C\">\n",
    "                    <b>11. The production manager at the Xen Sewing Factory claims that on average the diameter of a class 14M bobbin is less than 18 mm. The previous study shows that the standard deviation is 1.7 mm. Consider a sample of 40 class 14M bobbins from a normally distributed population with sample mean diameter as 17.5 mm. Test the claim of the production manager with 99% confidence. \n",
    "</b>\n",
    "                </font>\n",
    "            </div>\n",
    "        </td>\n",
    "    </tr>\n",
    "</table>"
   ]
  },
  {
   "cell_type": "code",
   "execution_count": 12,
   "id": "73f874e1",
   "metadata": {},
   "outputs": [
    {
     "name": "stdout",
     "output_type": "stream",
     "text": [
      "Z-score: -1.86\n"
     ]
    }
   ],
   "source": [
    "#H0:  𝜇 ≥18 \n",
    "#H1:  𝜇 <18\n",
    "\n",
    "n = 40\n",
    "p_mean = 18\n",
    "std = 1.7\n",
    "s_mean = 17.5\n",
    "\n",
    "z_score = (s_mean - p_mean) / (std / np.sqrt(n))\n",
    "\n",
    "print(\"Z-score:\",round(z_score,2) )"
   ]
  },
  {
   "cell_type": "code",
   "execution_count": 13,
   "id": "742d7adf",
   "metadata": {},
   "outputs": [
    {
     "name": "stdout",
     "output_type": "stream",
     "text": [
      "p-value: 0.031431210741779014\n"
     ]
    }
   ],
   "source": [
    "p_value = stats.norm.cdf(z_score)\n",
    "\n",
    "print('p-value:', p_value)"
   ]
  },
  {
   "cell_type": "raw",
   "id": "b90323a0",
   "metadata": {},
   "source": [
    "p-value > 0.01 hence the decision is Not to reject the null hypothesis"
   ]
  },
  {
   "cell_type": "markdown",
   "id": "8e547bf8",
   "metadata": {},
   "source": [
    "<table align=\"left\">\n",
    "    <tr>\n",
    "        <td width=\"6%\">\n",
    "            <img src=\"question_icon.png\">\n",
    "        </td>\n",
    "        <td>\n",
    "            <div align=\"left\", style=\"font-size:120%\">\n",
    "                <font color=\"#21618C\">\n",
    "                    <b>12. The production manager at the automobile company states that all the steel rods are produced with an average length of 26 cm and a standard deviation of 2.4 cm. The length of 60 rods is collected as a sample and the average length of these rods is found to be 24.8 cm. Test whether the length of the rod is different than 26 cm with a 95% confidence interval. Assume the distribution is normal</b>\n",
    "                </font>\n",
    "            </div>\n",
    "        </td>\n",
    "    </tr>\n",
    "</table>"
   ]
  },
  {
   "cell_type": "code",
   "execution_count": 14,
   "id": "c87fa343",
   "metadata": {},
   "outputs": [
    {
     "name": "stdout",
     "output_type": "stream",
     "text": [
      "95% confidence interval for population mean: (24.192727370296804, 25.407272629703197)\n"
     ]
    }
   ],
   "source": [
    "#H0:  𝜇 =26 \n",
    "#H1:  𝜇 ≠26\n",
    "n = 60\n",
    "s_mean = 24.8\n",
    "std = 2.4\n",
    "interval = stats.norm.interval(0.95, loc = s_mean, scale = std / np.sqrt(n))\n",
    "\n",
    "print('95% confidence interval for population mean:',interval )"
   ]
  },
  {
   "cell_type": "markdown",
   "id": "15420772",
   "metadata": {},
   "source": [
    "<table align=\"left\">\n",
    "    <tr>\n",
    "        <td width=\"6%\">\n",
    "            <img src=\"question_icon.png\">\n",
    "        </td>\n",
    "        <td>\n",
    "            <div align=\"left\", style=\"font-size:120%\">\n",
    "                <font color=\"#21618C\">\n",
    "                        <b>13. The production manager at tea emporium claims that the weight of a green tea bag is less than 3.5 g. To test the manager's claim consider a sample of 50 tea bags. The sample average weight is found to be 3.28 g with a standard deviation of 0.6 g. Use the p-value technique to test the claim at a 10% level of significance. Assume the distribution is normal. </b>\n",
    "                </font>\n",
    "            </div>\n",
    "        </td>\n",
    "    </tr>\n",
    "</table>"
   ]
  },
  {
   "cell_type": "code",
   "execution_count": 16,
   "id": "b817b376",
   "metadata": {},
   "outputs": [
    {
     "name": "stdout",
     "output_type": "stream",
     "text": [
      "Z-score: -2.59\n"
     ]
    }
   ],
   "source": [
    "#H0:  𝜇 ≥3.5 \n",
    "#H1:  𝜇 <3.5\n",
    "\n",
    "n = 50\n",
    "p_mean = 3.5\n",
    "std = 0.6\n",
    "s_mean = 3.28\n",
    "z_score = (s_mean - p_mean) / (std / np.sqrt(n))\n",
    "print(\"Z-score:\", round(z_score,2))"
   ]
  },
  {
   "cell_type": "code",
   "execution_count": 19,
   "id": "521857cf",
   "metadata": {},
   "outputs": [
    {
     "name": "stdout",
     "output_type": "stream",
     "text": [
      "p-value: 0.005\n"
     ]
    }
   ],
   "source": [
    "p_value = stats.norm.cdf(z_score)\n",
    "print('p-value:', round(p_value,3))"
   ]
  },
  {
   "cell_type": "raw",
   "id": "1641fc73",
   "metadata": {},
   "source": [
    "p-value < 0.1 hence we reject the null hypothesis"
   ]
  },
  {
   "cell_type": "markdown",
   "id": "80c40a2f",
   "metadata": {},
   "source": [
    "<table align=\"left\">\n",
    "    <tr>\n",
    "        <td width=\"6%\">\n",
    "            <img src=\"question_icon.png\">\n",
    "        </td>\n",
    "        <td>\n",
    "            <div align=\"left\", style=\"font-size:120%\">\n",
    "                <font color=\"#21618C\">\n",
    "                    <b>14. The physician at university claims that the average height of male students in the university hostel is more than 175 cm with a standard deviation of 8 cm. To test the claim the physical trainer at a university collects the data of 75 male students in the hostel and calculate the average height of those 75 students as 176.3 cm. Test the physician's claim at 95% confidence. Assume the distribution is normal.\n",
    "</b>\n",
    "                </font>\n",
    "            </div>\n",
    "        </td>\n",
    "    </tr>\n",
    "</table>"
   ]
  },
  {
   "cell_type": "code",
   "execution_count": 20,
   "id": "08e80ca7",
   "metadata": {},
   "outputs": [
    {
     "name": "stdout",
     "output_type": "stream",
     "text": [
      "Z-score: 1.41\n"
     ]
    }
   ],
   "source": [
    "#H0:  𝜇 ≤175 \n",
    "#H1:  𝜇 >175\n",
    "n = 75\n",
    "p_mean = 175\n",
    "std = 8\n",
    "s_mean = 176.3\n",
    "z_score = (s_mean - p_mean) / (std / np.sqrt(n))\n",
    "\n",
    "print(\"Z-score:\", round(z_score,2))"
   ]
  },
  {
   "cell_type": "code",
   "execution_count": 21,
   "id": "3b7f629b",
   "metadata": {},
   "outputs": [
    {
     "name": "stdout",
     "output_type": "stream",
     "text": [
      "p-value: 0.08\n"
     ]
    }
   ],
   "source": [
    "p_value = stats.norm.sf(z_score)\n",
    "print('p-value:', round(p_value,2))"
   ]
  },
  {
   "cell_type": "raw",
   "id": "6352fefb",
   "metadata": {},
   "source": [
    "p-value > 0.05 so the decision is  donot reject the null hypothesis"
   ]
  },
  {
   "cell_type": "markdown",
   "id": "0e2e8c08",
   "metadata": {},
   "source": [
    "<table align=\"left\">\n",
    "    <tr>\n",
    "        <td width=\"6%\">\n",
    "            <img src=\"question_icon.png\">\n",
    "        </td>\n",
    "        <td>\n",
    "            <div align=\"left\", style=\"font-size:120%\">\n",
    "                <font color=\"#21618C\">\n",
    "                            <b>15. The economic journal claims that the students who graduated from tier 1 universities get more salary than the average salary of 35000$. A random sample of 20 graduated students is selected to test the claim. Use p-value criteria to test the claim with 0.1 as a level of significance. Assume the data is normally distributed. \n",
    "</b>\n",
    "                </font>\n",
    "            </div>\n",
    "        </td>\n",
    "    </tr>\n",
    "</table>"
   ]
  },
  {
   "cell_type": "markdown",
   "id": "8e9b197f",
   "metadata": {},
   "source": [
    "Use the data given below:\n",
    "\n",
    "        salary = [29560, 26534, 31020, 44300, 52335, 69190, 71100, 80100, 90000, 41002, 46118, 88129, 79713, 95881, 47989,\n",
    "                  15188, 91631, 96189, 77819, 79590]"
   ]
  },
  {
   "cell_type": "code",
   "execution_count": 22,
   "id": "0d827ad8",
   "metadata": {},
   "outputs": [
    {
     "name": "stdout",
     "output_type": "stream",
     "text": [
      "Degrees of freedom: 19\n"
     ]
    }
   ],
   "source": [
    "salary = [29560, 26534, 31020, 44300, 52335, 69190, 71100, 80100, 90000, 41002, 46118, 88129, 79713, 95881, 47989, 15188,\n",
    "          91631, 96189, 77819, 79590]\n",
    "\n",
    "s_mean = np.mean(salary)\n",
    "sample_std = statistics.stdev(salary)\n",
    "n = len(salary)\n",
    "\n",
    "print('Degrees of freedom:', n - 1)"
   ]
  },
  {
   "cell_type": "code",
   "execution_count": 23,
   "id": "06f98850",
   "metadata": {},
   "outputs": [
    {
     "name": "stdout",
     "output_type": "stream",
     "text": [
      "Test statistic: 0.92\n",
      "P-Value: 0.1\n"
     ]
    }
   ],
   "source": [
    "stat, p_value = shapiro(salary)\n",
    "print('Test statistic:', round(stat,2))\n",
    "print('P-Value:', round(p_value,2))"
   ]
  },
  {
   "cell_type": "code",
   "execution_count": 24,
   "id": "271cad33",
   "metadata": {},
   "outputs": [],
   "source": [
    "#H0:  𝜇 ≤35000 \n",
    "#H1:  𝜇 >35000\\\n",
    "\n",
    "t_stat, p_val = stats.ttest_1samp(a = salary, popmean = 35000)"
   ]
  },
  {
   "cell_type": "code",
   "execution_count": 25,
   "id": "e6b06e09",
   "metadata": {},
   "outputs": [
    {
     "name": "stdout",
     "output_type": "stream",
     "text": [
      "Test Statistic: 4.78\n",
      "p-value: 0.0\n"
     ]
    }
   ],
   "source": [
    "req_p_val = p_val/2\n",
    "print('Test Statistic:', round(t_stat,2))\n",
    "print('p-value:', round(req_p_val,2))"
   ]
  },
  {
   "cell_type": "raw",
   "id": "257bd82b",
   "metadata": {},
   "source": [
    "the p-value < 0.1. Thus, we reject the null hypothesis"
   ]
  },
  {
   "cell_type": "code",
   "execution_count": null,
   "id": "c37ca6ab",
   "metadata": {},
   "outputs": [],
   "source": []
  }
 ],
 "metadata": {
  "kernelspec": {
   "display_name": "Python 3 (ipykernel)",
   "language": "python",
   "name": "python3"
  },
  "language_info": {
   "codemirror_mode": {
    "name": "ipython",
    "version": 3
   },
   "file_extension": ".py",
   "mimetype": "text/x-python",
   "name": "python",
   "nbconvert_exporter": "python",
   "pygments_lexer": "ipython3",
   "version": "3.9.7"
  }
 },
 "nbformat": 4,
 "nbformat_minor": 5
}

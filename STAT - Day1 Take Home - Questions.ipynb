{
 "cells": [
  {
   "cell_type": "markdown",
   "metadata": {},
   "source": [
    "<table align=\"center\" width=100%>\n",
    "    <tr>\n",
    "        <td width=\"20%\">\n",
    "            <img src=\"GL-2.png\">\n",
    "        </td>\n",
    "        <td>\n",
    "            <div align=\"center\">\n",
    "                <font color=\"#21618C\" size=8px>\n",
    "                    <b> Take Home <br>(Day 1)\n",
    "                    </b>\n",
    "                </font>\n",
    "            </div>\n",
    "        </td>\n",
    "    </tr>\n",
    "</table>"
   ]
  },
  {
   "cell_type": "markdown",
   "metadata": {},
   "source": [
    "## Table of Content\n",
    "\n",
    "1. **[Sampling](#sample)**\n",
    "2. **[Descriptive Statistics](#descr)**\n",
    "3. **[Probability and Bayes Theorem](#prob)**"
   ]
  },
  {
   "cell_type": "markdown",
   "metadata": {},
   "source": [
    "**Import the required libraries**"
   ]
  },
  {
   "cell_type": "code",
   "execution_count": 1,
   "metadata": {},
   "outputs": [],
   "source": [
    "import pandas as pd \n",
    "import numpy as np\n",
    "import matplotlib.pyplot as plt\n",
    "from matplotlib import gridspec\n",
    "%matplotlib inline\n",
    "import seaborn as sns\n",
    "from warnings import filterwarnings\n",
    "filterwarnings('ignore')\n",
    "from math import factorial\n",
    "from scipy import stats\n",
    "from scipy.stats import randint\n",
    "from scipy.stats import skewnorm\n",
    "import random"
   ]
  },
  {
   "cell_type": "markdown",
   "metadata": {},
   "source": [
    "### Let's begin with some hands-on practice exercises"
   ]
  },
  {
   "cell_type": "markdown",
   "metadata": {},
   "source": [
    "<table align=\"left\">\n",
    "    <tr>\n",
    "        <td width=\"6%\">\n",
    "            <img src=\"question_icon.png\">\n",
    "        </td>\n",
    "        <td>\n",
    "            <div align=\"left\", style=\"font-size:120%\">\n",
    "                <font color=\"#21618C\">\n",
    "                    <b>1. A wrist-watch company wants to perform a quality check before launching their next-generation k22-digital watch. The production team has delivered 30 watches with number tags as 1,2,...30 on each watch for the quality check. Pick 5 watches randomly to check the quality. </b>\n",
    "                </font>\n",
    "            </div>\n",
    "        </td>\n",
    "    </tr>\n",
    "</table>"
   ]
  },
  {
   "cell_type": "code",
   "execution_count": 2,
   "metadata": {},
   "outputs": [
    {
     "data": {
      "text/plain": [
       "[13, 24, 7, 15, 10]"
      ]
     },
     "execution_count": 2,
     "metadata": {},
     "output_type": "execute_result"
    }
   ],
   "source": [
    "# write answer here\n",
    "data=np.arange(1,31,1)\n",
    "sample_wor = random.sample(population = list(data), k = 5)\n",
    "sample_wor"
   ]
  },
  {
   "cell_type": "markdown",
   "metadata": {
    "colab_type": "text",
    "id": "77vuf1DVf98O"
   },
   "source": [
    "<table align=\"left\">\n",
    "    <tr>\n",
    "        <td width=\"6%\">\n",
    "            <img src=\"question_icon.png\">\n",
    "        </td>\n",
    "        <td>\n",
    "            <div align=\"left\", style=\"font-size:120%\">\n",
    "                <font color=\"#21618C\">\n",
    "                    <b>2. The rainfall (in mm) in the city is recorded for 10 days. Find the rainfall value under which 60% of the rainfalls would lie.</b>\n",
    "                </font>\n",
    "            </div>\n",
    "        </td>\n",
    "    </tr>\n",
    "</table>"
   ]
  },
  {
   "cell_type": "markdown",
   "metadata": {},
   "source": [
    "Given data:\n",
    "\n",
    "        rainfall (in mm) = [86, 74, 90, 108, 65, 84, 75, 92, 102, 93]"
   ]
  },
  {
   "cell_type": "code",
   "execution_count": 4,
   "metadata": {},
   "outputs": [
    {
     "name": "stdout",
     "output_type": "stream",
     "text": [
      " 60% of the rainfalls would lie 90.8 mm\n"
     ]
    }
   ],
   "source": [
    "# Write answer here\n",
    "rainfall= pd.Series([86, 74, 90, 108, 65, 84, 75, 92, 102, 93])\n",
    "rain = rainfall.quantile(0.60)\n",
    "print(' 60% of the rainfalls would lie',rain,'mm')"
   ]
  },
  {
   "cell_type": "markdown",
   "metadata": {
    "colab_type": "text",
    "id": "V7QJT8W9f98T"
   },
   "source": [
    "<table align=\"left\">\n",
    "    <tr>\n",
    "        <td width=\"6%\">\n",
    "            <img src=\"question_icon.png\">\n",
    "        </td>\n",
    "        <td>\n",
    "            <div align=\"left\", style=\"font-size:120%\">\n",
    "                <font color=\"#21618C\">\n",
    "                    <b>3. John is studying Mechanical Engineering while Jack is studying Fine Arts The performance of John and Jack in the monthly exams is given below. Compare their performances and identify the more consistent student. </b>\n",
    "                </font>\n",
    "            </div>\n",
    "        </td>\n",
    "    </tr>\n",
    "</table>"
   ]
  },
  {
   "cell_type": "markdown",
   "metadata": {},
   "source": [
    "Given data:\n",
    "\n",
    "        John = [42, 38, 47, 35, 39, 46]\n",
    "        Jack = [32, 36, 46, 49, 28, 30]"
   ]
  },
  {
   "cell_type": "code",
   "execution_count": 10,
   "metadata": {},
   "outputs": [
    {
     "name": "stdout",
     "output_type": "stream",
     "text": [
      "C.V of John 10.440321423666097\n",
      "C.V of Jack 21.629716566003836\n"
     ]
    }
   ],
   "source": [
    "# Write answer here\n",
    "John = [42, 38, 47, 35, 39, 46]\n",
    "Jack = [32, 36, 46, 49, 28, 30]\n",
    "jo_mean=np.mean(John)\n",
    "ja_mean=np.mean(Jack)\n",
    "jo_std=np.std(John)\n",
    "ja_std=np.std(Jack)\n",
    "jo_cv=(jo_std/jo_mean)*100\n",
    "ja_cv=(ja_std/ja_mean)*100\n",
    "\n",
    "print('C.V of John',jo_cv)\n",
    "print('C.V of Jack',ja_cv)\n",
    "#John is more consistent as the Coefficint of variation of his scores is less than Jack's"
   ]
  },
  {
   "cell_type": "markdown",
   "metadata": {
    "colab_type": "text",
    "id": "9qnEEhR4f98X"
   },
   "source": [
    "<table align=\"left\">\n",
    "    <tr>\n",
    "        <td width=\"6%\">\n",
    "            <img src=\"question_icon.png\">\n",
    "        </td>\n",
    "        <td>\n",
    "            <div align=\"left\", style=\"font-size:120%\">\n",
    "                <font color=\"#21618C\">\n",
    "                    <b>4. The amount of Calcium, Potassium and Iron in the chocolate cookies of 5 different brands is collected. Find out which mineral can be neglected while comparing the different cookie brands?</b>\n",
    "                </font>\n",
    "            </div>\n",
    "        </td>\n",
    "    </tr>\n",
    "</table>"
   ]
  },
  {
   "cell_type": "markdown",
   "metadata": {},
   "source": [
    "Given data:\n",
    "\n",
    "        Calcium (in mg) = [132, 138.56, 147.2, 145.6, 139]\n",
    "        Potassium (in mg) = [122.2, 116, 106.6, 119.52, 128]\n",
    "        Iron (in mg) = [2.96, 3.02, 3.01, 2.99, 2.93]"
   ]
  },
  {
   "cell_type": "code",
   "execution_count": 11,
   "metadata": {},
   "outputs": [
    {
     "name": "stdout",
     "output_type": "stream",
     "text": [
      "STD of Calcium 5.461861953583225\n",
      "STD of Potassium 7.111032555121656\n",
      "STD of Iron 0.03310589071449363\n"
     ]
    }
   ],
   "source": [
    "# Write answer here\n",
    "Calcium = [132, 138.56, 147.2, 145.6, 139]\n",
    "Potassium = [122.2, 116, 106.6, 119.52, 128]\n",
    "Iron = [2.96, 3.02, 3.01, 2.99, 2.93]\n",
    "\n",
    "print('STD of Calcium', np.std(Calcium))\n",
    "print('STD of Potassium', np.std(Potassium))\n",
    "print('STD of Iron', np.std(Iron))"
   ]
  },
  {
   "cell_type": "markdown",
   "metadata": {},
   "source": [
    "we can neglected iron because iron has 0.03 of standard deviation which is almost equal to 0\n"
   ]
  },
  {
   "cell_type": "markdown",
   "metadata": {},
   "source": [
    "<table align=\"left\">\n",
    "    <tr>\n",
    "        <td width=\"6%\">\n",
    "            <img src=\"question_icon.png\">\n",
    "        </td>\n",
    "        <td>\n",
    "            <div align=\"left\", style=\"font-size:120%\">\n",
    "                <font color=\"#21618C\">\n",
    "                    <b>5. You have given two car's company cars mileage details. Find the company is more reliable, while comparing the mileage.\n",
    "            </div>\n",
    "        </td>\n",
    "    </tr>\n",
    "</table>"
   ]
  },
  {
   "cell_type": "markdown",
   "metadata": {},
   "source": [
    "Given data:\n",
    "\n",
    "        Motor_Company1 = [20,30,23,25,26,27,33,27,21,22]\n",
    "        Motor_Company2 = [22,40,10,34,11,41,9,12,19,29]\n",
    "      "
   ]
  },
  {
   "cell_type": "code",
   "execution_count": 13,
   "metadata": {},
   "outputs": [
    {
     "name": "stdout",
     "output_type": "stream",
     "text": [
      "STD of motor company 1  3.8781438859330635\n",
      "STD of motor company 2 11.9\n"
     ]
    }
   ],
   "source": [
    "# Write answer here\n",
    "Motor_Company1 = [20,30,23,25,26,27,33,27,21,22]\n",
    "Motor_Company2 = [22,40,10,34,11,41,9,12,19,29]\n",
    "comp_1=np.std(Motor_Company1)\n",
    "comp_2=np.std(Motor_Company2)\n",
    "print('STD of motor company 1 ',comp_1)\n",
    "print('STD of motor company 2',comp_2)"
   ]
  },
  {
   "cell_type": "raw",
   "metadata": {},
   "source": [
    "motor company 1 is the company is more reliable, while comparing the mileage becouse of less standard deviation."
   ]
  },
  {
   "cell_type": "markdown",
   "metadata": {},
   "source": [
    "<table align=\"left\">\n",
    "    <tr>\n",
    "        <td width=\"6%\">\n",
    "            <img src=\"question_icon.png\">\n",
    "        </td>\n",
    "        <td>\n",
    "            <div align=\"left\", style=\"font-size:120%\">\n",
    "                <font color=\"#21618C\">\n",
    "                    <b>6. Use the below data and find five point summary of the data.\n",
    "</b>\n",
    "                </font>\n",
    "            </div>\n",
    "        </td>\n",
    "    </tr>\n",
    "</table>"
   ]
  },
  {
   "cell_type": "markdown",
   "metadata": {},
   "source": [
    "rainfall = [132, 138.56, 147.2, 145.6, 139,86, 74, 90, 108, 65, 84, 75, 92, 102, 93,140,133.2,145.4,146.2,122.2, 116, 106.6, 119.52, 128.1,122.2, 116, 106.6, 119.52, 128,1]"
   ]
  },
  {
   "cell_type": "code",
   "execution_count": 14,
   "metadata": {},
   "outputs": [
    {
     "data": {
      "text/plain": [
       "count     30.000000\n",
       "mean     110.730000\n",
       "std       31.493512\n",
       "min        1.000000\n",
       "25%       92.250000\n",
       "50%      117.760000\n",
       "75%      132.900000\n",
       "max      147.200000\n",
       "dtype: float64"
      ]
     },
     "execution_count": 14,
     "metadata": {},
     "output_type": "execute_result"
    }
   ],
   "source": [
    "# Write answer here\n",
    "rainfall = pd.Series([132, 138.56, 147.2, 145.6, 139,86, 74, 90, 108, 65, 84, 75, 92, 102, 93,140,133.2,145.4,146.2,122.2, 116, 106.6, 119.52, 128.1,122.2, 116, 106.6, 119.52, 128,1])\n",
    "rainfall.describe()"
   ]
  },
  {
   "cell_type": "markdown",
   "metadata": {
    "colab_type": "text",
    "id": "6YXVLVi9f98b"
   },
   "source": [
    "<table align=\"left\">\n",
    "    <tr>\n",
    "        <td width=\"6%\">\n",
    "            <img src=\"question_icon.png\">\n",
    "        </td>\n",
    "        <td>\n",
    "            <div align=\"left\", style=\"font-size:120%\">\n",
    "                <font color=\"#21618C\">\n",
    "                    <b>7. A box contains 5 coins of Rs. 1, 3 coins of Rs. 2 and 6 coins of Rs. 5. We want to select three coins such that only the coins of an odd value are selected. Find the probability of selecting 3 such coins.</b>\n",
    "                </font>\n",
    "            </div>\n",
    "        </td>\n",
    "    </tr>\n",
    "</table>"
   ]
  },
  {
   "cell_type": "code",
   "execution_count": 15,
   "metadata": {
    "id": "qBlJcQbadLgs",
    "outputId": "fb0cf2fb-30b4-455d-c0b8-bec3b1052cda"
   },
   "outputs": [
    {
     "name": "stdout",
     "output_type": "stream",
     "text": [
      "The probability that three coins are selected with an odd price: 0.4532967032967033\n"
     ]
    }
   ],
   "source": [
    "coins = 5 + 3 + 6\n",
    "\n",
    "def combine(n, r):\n",
    "    result = factorial(n) / (factorial(r) * factorial(n-r))\n",
    "    return result\n",
    "\n",
    "# total number of ways of selecting three coins\n",
    "total = combine(coins, 3)\n",
    "\n",
    "# select 3 coins from total 11 coins of odd price\n",
    "X = combine(11, 3)\n",
    "\n",
    "# required probability\n",
    "prob = X / total\n",
    "\n",
    "print('The probability that three coins are selected with an odd price:', prob)"
   ]
  },
  {
   "cell_type": "markdown",
   "metadata": {
    "colab_type": "text",
    "id": "YIaQZc58f98p"
   },
   "source": [
    "<table align=\"left\">\n",
    "    <tr>\n",
    "        <td width=\"6%\">\n",
    "            <img src=\"question_icon.png\">\n",
    "        </td>\n",
    "        <td>\n",
    "            <div align=\"left\", style=\"font-size:120%\">\n",
    "                <font color=\"#21618C\">\n",
    "                    <b>8. A magician wants you to select three cards from a pack of 52 cards without replacement. Find the probability that one card is a queen?</b>\n",
    "                </font>\n",
    "            </div>\n",
    "        </td>\n",
    "    </tr>\n",
    "</table>"
   ]
  },
  {
   "cell_type": "code",
   "execution_count": 16,
   "metadata": {
    "id": "6iAxYHJIdLgt",
    "outputId": "de744060-0b73-4651-9235-ba6d95e23b95"
   },
   "outputs": [
    {
     "name": "stdout",
     "output_type": "stream",
     "text": [
      "The probability of occurrence of a queen among selected cards is: 0.2041628959276018\n"
     ]
    }
   ],
   "source": [
    "def combine(n, r):\n",
    "    result = factorial(n) / (factorial(r) * factorial(n-r))\n",
    "    return result\n",
    "cards= 52\n",
    "\n",
    "# total number of ways of selecting three cards without replacement\n",
    "total= combine(cards, 3)\n",
    "num= combine(4, 1)* combine(48, 2)\n",
    "\n",
    "# required probability\n",
    "prob =  num / total\n",
    "\n",
    "print('The probability of occurrence of a queen among selected cards is:', prob)"
   ]
  },
  {
   "cell_type": "markdown",
   "metadata": {},
   "source": [
    "<table align=\"left\">\n",
    "    <tr>\n",
    "        <td width=\"6%\">\n",
    "            <img src=\"question_icon.png\">\n",
    "        </td>\n",
    "        <td>\n",
    "            <div align=\"left\", style=\"font-size:120%\">\n",
    "                <font color=\"#21618C\">\n",
    "                    <b>9. The same magician wants another person to select three cards from a pack of 52 cards without replacement. Find the probability that at least one card is a queen?</b>\n",
    "                </font>\n",
    "            </div>\n",
    "        </td>\n",
    "    </tr>\n",
    "</table>"
   ]
  },
  {
   "cell_type": "code",
   "execution_count": 23,
   "metadata": {},
   "outputs": [
    {
     "name": "stdout",
     "output_type": "stream",
     "text": [
      "The probability of occurrence of a queen among selected cards is: 0.2173755656108597\n"
     ]
    }
   ],
   "source": [
    "# Write answer here\n",
    "def combine(n, r):\n",
    "    result = factorial(n) / (factorial(r) * factorial(n-r))\n",
    "    return result\n",
    "cards= 52\n",
    "\n",
    "# total number of ways of selecting three cards without replacement\n",
    "total= combine(cards, 3)\n",
    "num=  combine(48, 3)\n",
    "\n",
    "# required probability\n",
    "prob_of_one_queen = 1- num / total\n",
    "\n",
    "print('The probability of occurrence of a queen among selected cards is:', prob_of_one_queen)\n"
   ]
  },
  {
   "cell_type": "markdown",
   "metadata": {},
   "source": [
    "<table align=\"left\">\n",
    "    <tr>\n",
    "        <td width=\"6%\">\n",
    "            <img src=\"question_icon.png\">\n",
    "        </td>\n",
    "        <td>\n",
    "            <div align=\"left\", style=\"font-size:120%\">\n",
    "                <font color=\"#21618C\">\n",
    "                    <b>10.The probability of parking in a no parking zone is 0.2. The probability of a day being crowded is 0.36. The probability of the day being crowded and parking in the no parking zone is 0.28. What is the probability that a person will park in the no parking zone given that the day is  crowded day.\n",
    "            </div>\n",
    "        </td>\n",
    "    </tr>\n",
    "</table>"
   ]
  },
  {
   "cell_type": "code",
   "execution_count": 25,
   "metadata": {},
   "outputs": [
    {
     "name": "stdout",
     "output_type": "stream",
     "text": [
      "The probability of the person will park in the no parking zone given the day is crowded : 0.78\n"
     ]
    }
   ],
   "source": [
    "# write answer here\n",
    "no_parking = 0.2\n",
    "crowded = 0.36\n",
    "crowded_no_parking = 0.28\n",
    "prob=(crowded_no_parking)/ crowded\n",
    "print('The probability of the person will park in the no parking zone given the day is crowded :',round(prob,2))"
   ]
  },
  {
   "cell_type": "markdown",
   "metadata": {},
   "source": [
    "<table align=\"left\">\n",
    "    <tr>\n",
    "        <td width=\"6%\">\n",
    "            <img src=\"question_icon.png\">\n",
    "        </td>\n",
    "        <td>\n",
    "            <div align=\"left\", style=\"font-size:120%\">\n",
    "                <font color=\"#21618C\">\n",
    "                    <b>11. A bulb manufacture company has two machines to produce bulbs, Machine A and Machine B. Machine A produces 80% of the bulbs and Machine B produces 20% of the bulbs. Machine A gives 10% defective bulb and Machine B gives 12% defective bulbs. What is the probability that a bulb selected at random which is defective is from Machine B.\n",
    "            </div>\n",
    "        </td>\n",
    "    </tr>\n",
    "</table>"
   ]
  },
  {
   "cell_type": "code",
   "execution_count": 26,
   "metadata": {},
   "outputs": [
    {
     "name": "stdout",
     "output_type": "stream",
     "text": [
      "The required probability is  0.23\n"
     ]
    }
   ],
   "source": [
    "# Write answer here\n",
    "Machine_A = .80\n",
    "Machine_B = .20\n",
    "Defective_given_Machine_A = .10\n",
    "Defective_given_Machine_B = .12\n",
    "defective_machine_B = (Defective_given_Machine_B * Machine_B)/((Defective_given_Machine_A*Machine_A) + (Defective_given_Machine_B*Machine_B))\n",
    "print(\"The required probability is \", round(defective_machine_B,2))     \n"
   ]
  },
  {
   "cell_type": "code",
   "execution_count": null,
   "metadata": {},
   "outputs": [],
   "source": []
  }
 ],
 "metadata": {
  "kernelspec": {
   "display_name": "Python 3 (ipykernel)",
   "language": "python",
   "name": "python3"
  },
  "language_info": {
   "codemirror_mode": {
    "name": "ipython",
    "version": 3
   },
   "file_extension": ".py",
   "mimetype": "text/x-python",
   "name": "python",
   "nbconvert_exporter": "python",
   "pygments_lexer": "ipython3",
   "version": "3.9.7"
  }
 },
 "nbformat": 4,
 "nbformat_minor": 2
}

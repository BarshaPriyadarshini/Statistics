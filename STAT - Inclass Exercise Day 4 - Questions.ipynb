{
 "cells": [
  {
   "cell_type": "markdown",
   "id": "520eae35",
   "metadata": {},
   "source": [
    "<table align=\"left\" width=100%>\n",
    "    <tr>\n",
    "        <td width=\"20%\">\n",
    "            <img src=\"GL-2.png\">\n",
    "        </td>\n",
    "        <td>\n",
    "            <div align=\"center\">\n",
    "                <font color=\"#21618C\" size=8px>\n",
    "                  <b> Inclass Exercise <br>(Day  - 4)</b>\n",
    "                </font>\n",
    "            </div>\n",
    "        </td>\n",
    "    </tr>\n",
    "</table>"
   ]
  },
  {
   "cell_type": "markdown",
   "id": "7102e432",
   "metadata": {},
   "source": [
    "## Table of Content\n",
    "\n",
    "1. **[Import Libraries](#lib)**\n",
    "2. **[Large Sample Test](#z)**\n",
    "    - 2.1 - **[Two Sample Z Test](#2z)**\n",
    "3. **[Small Sample Test](#t)**\n",
    "    - 3.1 - **[Two Sample t Test (Unpaired)](#2t)**\n",
    "    - 3.2 - **[Paired t Test](#paired)**\n",
    "4. **[Chi-Square Test](#chisq)**\n",
    "5. **[One-way ANOVA](#1way)**"
   ]
  },
  {
   "cell_type": "markdown",
   "id": "b73ced5a",
   "metadata": {},
   "source": [
    "<a id = \"lib\"> </a>\n",
    "## 1. Import Libraries"
   ]
  },
  {
   "cell_type": "code",
   "execution_count": 2,
   "id": "60aa8918",
   "metadata": {},
   "outputs": [
    {
     "name": "stdout",
     "output_type": "stream",
     "text": [
      "Collecting scikit_posthocs\n",
      "  Downloading scikit_posthocs-0.7.0-py3-none-any.whl (38 kB)\n",
      "Requirement already satisfied: pandas>=0.20.0 in c:\\anacondapython\\lib\\site-packages (from scikit_posthocs) (1.3.4)\n",
      "Requirement already satisfied: statsmodels in c:\\anacondapython\\lib\\site-packages (from scikit_posthocs) (0.12.2)\n",
      "Requirement already satisfied: scipy in c:\\anacondapython\\lib\\site-packages (from scikit_posthocs) (1.7.1)\n",
      "Requirement already satisfied: matplotlib in c:\\anacondapython\\lib\\site-packages (from scikit_posthocs) (3.4.3)\n",
      "Requirement already satisfied: numpy in c:\\anacondapython\\lib\\site-packages (from scikit_posthocs) (1.20.3)\n",
      "Requirement already satisfied: seaborn in c:\\anacondapython\\lib\\site-packages (from scikit_posthocs) (0.11.2)\n",
      "Requirement already satisfied: pytz>=2017.3 in c:\\anacondapython\\lib\\site-packages (from pandas>=0.20.0->scikit_posthocs) (2021.3)\n",
      "Requirement already satisfied: python-dateutil>=2.7.3 in c:\\anacondapython\\lib\\site-packages (from pandas>=0.20.0->scikit_posthocs) (2.8.2)\n",
      "Requirement already satisfied: six>=1.5 in c:\\anacondapython\\lib\\site-packages (from python-dateutil>=2.7.3->pandas>=0.20.0->scikit_posthocs) (1.16.0)\n",
      "Requirement already satisfied: pyparsing>=2.2.1 in c:\\anacondapython\\lib\\site-packages (from matplotlib->scikit_posthocs) (3.0.4)\n",
      "Requirement already satisfied: kiwisolver>=1.0.1 in c:\\anacondapython\\lib\\site-packages (from matplotlib->scikit_posthocs) (1.3.1)\n",
      "Requirement already satisfied: cycler>=0.10 in c:\\anacondapython\\lib\\site-packages (from matplotlib->scikit_posthocs) (0.10.0)\n",
      "Requirement already satisfied: pillow>=6.2.0 in c:\\anacondapython\\lib\\site-packages (from matplotlib->scikit_posthocs) (8.4.0)\n",
      "Requirement already satisfied: patsy>=0.5 in c:\\anacondapython\\lib\\site-packages (from statsmodels->scikit_posthocs) (0.5.2)\n",
      "Installing collected packages: scikit-posthocs\n",
      "Successfully installed scikit-posthocs-0.7.0\n"
     ]
    }
   ],
   "source": [
    "!pip install scikit_posthocs"
   ]
  },
  {
   "cell_type": "code",
   "execution_count": 2,
   "id": "4e949652",
   "metadata": {},
   "outputs": [],
   "source": [
    "import pandas as pd \n",
    "import numpy as np\n",
    "import matplotlib.pyplot as plt\n",
    "import seaborn as sns\n",
    "from warnings import filterwarnings\n",
    "filterwarnings('ignore')\n",
    "import statsmodels.api as sm\n",
    "from scipy import stats\n",
    "import statistics\n",
    "from scipy.stats import shapiro\n",
    "from statsmodels.stats import weightstats as stests\n",
    "import statsmodels.api as sm\n",
    "from statsmodels.formula.api import ols\n",
    "from statsmodels.stats.anova import anova_lm\n",
    "from scipy.stats import chi2_contingency\n",
    "from scipy.stats import chi2\n",
    "from scipy.stats import chisquare\n",
    "import statsmodels.stats.multicomp as mc\n",
    "# install scikit_posthocs using \"!pip install scikit_posthocs\" ?\n",
    "import scikit_posthocs"
   ]
  },
  {
   "cell_type": "markdown",
   "id": "753057d6",
   "metadata": {},
   "source": [
    "<a id = \"z\"> </a>\n",
    "## 2. Large Sample Test"
   ]
  },
  {
   "cell_type": "code",
   "execution_count": 4,
   "id": "9b94e85d",
   "metadata": {},
   "outputs": [
    {
     "data": {
      "text/html": [
       "<div>\n",
       "<style scoped>\n",
       "    .dataframe tbody tr th:only-of-type {\n",
       "        vertical-align: middle;\n",
       "    }\n",
       "\n",
       "    .dataframe tbody tr th {\n",
       "        vertical-align: top;\n",
       "    }\n",
       "\n",
       "    .dataframe thead th {\n",
       "        text-align: right;\n",
       "    }\n",
       "</style>\n",
       "<table border=\"1\" class=\"dataframe\">\n",
       "  <thead>\n",
       "    <tr style=\"text-align: right;\">\n",
       "      <th></th>\n",
       "      <th>Screensize (inch)</th>\n",
       "      <th>Price ($)</th>\n",
       "      <th>Weight (g)</th>\n",
       "      <th>Type</th>\n",
       "    </tr>\n",
       "  </thead>\n",
       "  <tbody>\n",
       "    <tr>\n",
       "      <th>0</th>\n",
       "      <td>6.5</td>\n",
       "      <td>245</td>\n",
       "      <td>252</td>\n",
       "      <td>Phablet</td>\n",
       "    </tr>\n",
       "    <tr>\n",
       "      <th>1</th>\n",
       "      <td>6.3</td>\n",
       "      <td>210</td>\n",
       "      <td>252</td>\n",
       "      <td>Phablet</td>\n",
       "    </tr>\n",
       "    <tr>\n",
       "      <th>2</th>\n",
       "      <td>6.1</td>\n",
       "      <td>224</td>\n",
       "      <td>234</td>\n",
       "      <td>Phablet</td>\n",
       "    </tr>\n",
       "    <tr>\n",
       "      <th>3</th>\n",
       "      <td>6.0</td>\n",
       "      <td>217</td>\n",
       "      <td>212</td>\n",
       "      <td>Phablet</td>\n",
       "    </tr>\n",
       "    <tr>\n",
       "      <th>4</th>\n",
       "      <td>6.4</td>\n",
       "      <td>252</td>\n",
       "      <td>252</td>\n",
       "      <td>Phablet</td>\n",
       "    </tr>\n",
       "    <tr>\n",
       "      <th>...</th>\n",
       "      <td>...</td>\n",
       "      <td>...</td>\n",
       "      <td>...</td>\n",
       "      <td>...</td>\n",
       "    </tr>\n",
       "    <tr>\n",
       "      <th>95</th>\n",
       "      <td>8.5</td>\n",
       "      <td>210</td>\n",
       "      <td>462</td>\n",
       "      <td>Tablet</td>\n",
       "    </tr>\n",
       "    <tr>\n",
       "      <th>96</th>\n",
       "      <td>8.5</td>\n",
       "      <td>203</td>\n",
       "      <td>462</td>\n",
       "      <td>Tablet</td>\n",
       "    </tr>\n",
       "    <tr>\n",
       "      <th>97</th>\n",
       "      <td>9.0</td>\n",
       "      <td>203</td>\n",
       "      <td>473</td>\n",
       "      <td>Tablet</td>\n",
       "    </tr>\n",
       "    <tr>\n",
       "      <th>98</th>\n",
       "      <td>8.9</td>\n",
       "      <td>175</td>\n",
       "      <td>430</td>\n",
       "      <td>Tablet</td>\n",
       "    </tr>\n",
       "    <tr>\n",
       "      <th>99</th>\n",
       "      <td>8.5</td>\n",
       "      <td>196</td>\n",
       "      <td>451</td>\n",
       "      <td>Tablet</td>\n",
       "    </tr>\n",
       "  </tbody>\n",
       "</table>\n",
       "<p>100 rows × 4 columns</p>\n",
       "</div>"
      ],
      "text/plain": [
       "    Screensize (inch)  Price ($)  Weight (g)     Type\n",
       "0                 6.5        245         252  Phablet\n",
       "1                 6.3        210         252  Phablet\n",
       "2                 6.1        224         234  Phablet\n",
       "3                 6.0        217         212  Phablet\n",
       "4                 6.4        252         252  Phablet\n",
       "..                ...        ...         ...      ...\n",
       "95                8.5        210         462   Tablet\n",
       "96                8.5        203         462   Tablet\n",
       "97                9.0        203         473   Tablet\n",
       "98                8.9        175         430   Tablet\n",
       "99                8.5        196         451   Tablet\n",
       "\n",
       "[100 rows x 4 columns]"
      ]
     },
     "execution_count": 4,
     "metadata": {},
     "output_type": "execute_result"
    }
   ],
   "source": [
    "df=pd.read_csv('electronic.csv')\n",
    "df"
   ]
  },
  {
   "cell_type": "markdown",
   "id": "f24caa9c",
   "metadata": {},
   "source": [
    "<a id = \"2z\"> </a>\n",
    "## 2.1 Large Two Sample Test"
   ]
  },
  {
   "cell_type": "markdown",
   "id": "c3ca4038",
   "metadata": {},
   "source": [
    "<table align=\"left\">\n",
    "    <tr>\n",
    "        <td width=\"6%\">\n",
    "            <img src=\"question_icon.png\">\n",
    "        </td>\n",
    "        <td>\n",
    "            <div align=\"left\", style=\"font-size:120%\">\n",
    "                <font color=\"#21618C\">\n",
    "                    <b>1. The technician wants to test whether the price of a phablet is not the same as the price of tablet. For the study, the technician collects the data of 50 gadgets of each type. Check whether the data satisfies the conditions to use the two sample Z-test. (Use 5% level of significance)</b>\n",
    "                </font>\n",
    "            </div>\n",
    "        </td>\n",
    "    </tr>\n",
    "</table>"
   ]
  },
  {
   "cell_type": "markdown",
   "id": "d0131419",
   "metadata": {},
   "source": [
    "Consider the dataset given in the CSV file `electronic.csv`. "
   ]
  },
  {
   "cell_type": "code",
   "execution_count": 13,
   "id": "473ff6ac",
   "metadata": {
    "scrolled": false
   },
   "outputs": [
    {
     "name": "stdout",
     "output_type": "stream",
     "text": [
      "Test statistic: 0.9686920642852783\n",
      "P-Value: 0.20465952157974243\n",
      "Test statistic: 0.9741330742835999\n",
      "P-Value: 0.33798879384994507\n"
     ]
    }
   ],
   "source": [
    "# type solution here\n",
    "p_price=df[df['Type']=='Phablet']['Price ($)']\n",
    "t_price=df[df['Type']=='Tablet']['Price ($)']\n",
    "#print(p_price)\n",
    "#print(t_price)\n",
    "\n",
    "stat_p, p_value_p = stats.shapiro(p_price)\n",
    "stat_t, p_value_t = stats.shapiro(t_price)\n",
    "# print the test statistic and corresponding p-value \n",
    "print('Test statistic:', stat_p)\n",
    "print('P-Value:', p_value_p)\n",
    "\n",
    "print('Test statistic:', stat_t)\n",
    "print('P-Value:', p_value_t)\n"
   ]
  },
  {
   "cell_type": "code",
   "execution_count": 16,
   "id": "69f7e86b",
   "metadata": {},
   "outputs": [
    {
     "data": {
      "text/plain": [
       "(0.6635459332943239, 0.4172859681296204)"
      ]
     },
     "execution_count": 16,
     "metadata": {},
     "output_type": "execute_result"
    }
   ],
   "source": [
    "stat, p_value = stats.levene(p_price,t_price)\n",
    "stat, p_value"
   ]
  },
  {
   "cell_type": "markdown",
   "id": "e07bb598",
   "metadata": {},
   "source": [
    "<table align=\"left\">\n",
    "    <tr>\n",
    "        <td width=\"6%\">\n",
    "            <img src=\"question_icon.png\">\n",
    "        </td>\n",
    "        <td>\n",
    "            <div align=\"left\", style=\"font-size:120%\">\n",
    "                <font color=\"#21618C\">\n",
    "                    <b>2. The technician claims that the price of phablet is not the same as the price of tablet. For the study, the technician collects the data of 50 gadgets of each type. Test the technician's claim using the 95% confidence interval.</b>\n",
    "                </font>\n",
    "            </div>\n",
    "        </td>\n",
    "    </tr>\n",
    "</table>"
   ]
  },
  {
   "cell_type": "markdown",
   "id": "6d42fd43",
   "metadata": {},
   "source": [
    "Consider the dataset given in the CSV file `electronic.csv`. "
   ]
  },
  {
   "cell_type": "code",
   "execution_count": 19,
   "id": "deb9270b",
   "metadata": {},
   "outputs": [
    {
     "data": {
      "text/plain": [
       "(9.282772555558113, 1.6512473234517284e-20)"
      ]
     },
     "execution_count": 19,
     "metadata": {},
     "output_type": "execute_result"
    }
   ],
   "source": [
    "# type solution here\n",
    "\n",
    "stats,p_value=stests.ztest(p_price,t_price)\n",
    "stats,p_value"
   ]
  },
  {
   "cell_type": "code",
   "execution_count": 26,
   "id": "d5324b95",
   "metadata": {},
   "outputs": [
    {
     "data": {
      "text/plain": [
       "(35.87894938341398, 54.84105061658599)"
      ]
     },
     "execution_count": 26,
     "metadata": {},
     "output_type": "execute_result"
    }
   ],
   "source": [
    "# to find out 95% of CI\n",
    "n_1=len(p_price)\n",
    "p_mean=np.mean(p_price)\n",
    "p_std=np.std(p_price)\n",
    "\n",
    "n_2=len(t_price)\n",
    "t_mean=np.mean(t_price)\n",
    "t_std=np.std(t_price)\n",
    "stats.norm.interval(0.95,loc=p_mean-t_mean,scale=np.sqrt(((p_std**2)/n_1)+((t_std**2)/n_2)))\n"
   ]
  },
  {
   "cell_type": "markdown",
   "id": "90565a9f",
   "metadata": {},
   "source": [
    "<a id=\"t\"></a>\n",
    "## 3. Small Sample Test"
   ]
  },
  {
   "cell_type": "markdown",
   "id": "ae2b898d",
   "metadata": {},
   "source": [
    "<a id=\"2t\"></a>\n",
    "## 3.1. Two sample T test Unpaired"
   ]
  },
  {
   "cell_type": "markdown",
   "id": "53d647ba",
   "metadata": {},
   "source": [
    "<table align=\"left\">\n",
    "    <tr>\n",
    "        <td width=\"6%\">\n",
    "            <img src=\"question_icon.png\">\n",
    "        </td>\n",
    "        <td>\n",
    "            <div align=\"left\", style=\"font-size:120%\">\n",
    "                <font color=\"#21618C\">\n",
    "                    <b>3. The newspaper agency wants to test whether Harry takes less time to deliver the newspapers than his colleague Ron. The manager has collected time (in minutes) taken by Harry and Ron for 7 days. Is the given dataset unpaired? If yes, check whether the manager at newspaper agency can use the two sample t-test for unpaired data with 99% confidence.  </b>\n",
    "                </font>\n",
    "            </div>\n",
    "        </td>\n",
    "    </tr>\n",
    "</table>"
   ]
  },
  {
   "cell_type": "markdown",
   "id": "2ada034d",
   "metadata": {},
   "source": [
    "Use the data given below:\n",
    "        \n",
    "    harry = [18.5, 17.4, 19.2, 16, 15.8, 13.4, 19.5]\n",
    "    ron = [19.7, 18.6, 21.3, 17.5, 23.8, 20.7, 21]"
   ]
  },
  {
   "cell_type": "code",
   "execution_count": 27,
   "id": "ecf16261",
   "metadata": {},
   "outputs": [
    {
     "name": "stdout",
     "output_type": "stream",
     "text": [
      "0.9328558444976807 0.9183047413825989\n",
      "0.972867488861084 0.9183047413825989\n"
     ]
    }
   ],
   "source": [
    "# type solution here\n",
    "harry = [18.5, 17.4, 19.2, 16, 15.8, 13.4, 19.5]\n",
    "ron = [19.7, 18.6, 21.3, 17.5, 23.8, 20.7, 21]\n",
    "#as data is unpaired so to perform 2 sample t test we perform tests for normality and \n",
    "stat_h, p_value = stats.shapiro(harry)\n",
    "stat_r, p_value = stats.shapiro(ron)\n",
    "\n",
    "print(stat_h, p_value)\n",
    "print(stat_r, p_value)"
   ]
  },
  {
   "cell_type": "code",
   "execution_count": 28,
   "id": "d9a9d38d",
   "metadata": {
    "scrolled": true
   },
   "outputs": [
    {
     "data": {
      "text/plain": [
       "(0.12793271359008374, 0.7267972480247995)"
      ]
     },
     "execution_count": 28,
     "metadata": {},
     "output_type": "execute_result"
    }
   ],
   "source": [
    "stat, p_value = stats.levene(harry,ron)\n",
    "stat, p_value\n",
    "# pvalue is >alpha(0.01)"
   ]
  },
  {
   "cell_type": "markdown",
   "id": "bc5c5cd8",
   "metadata": {},
   "source": [
    "<table align=\"left\">\n",
    "    <tr>\n",
    "        <td width=\"6%\">\n",
    "            <img src=\"question_icon.png\">\n",
    "        </td>\n",
    "        <td>\n",
    "            <div align=\"left\", style=\"font-size:120%\">\n",
    "                <font color=\"#21618C\">\n",
    "                    <b>4. The newspaper agency wants to test whether Harry takes less time to deliver the newspapers than his colleague Ron. The manager has collected time (in minutes) taken by Harry and Ron for 7 days. Use the given data and test the hypothesis for population mean time using a critical value method and p-value criteria with 90% confidence.</b>\n",
    "                </font>\n",
    "            </div>\n",
    "        </td>\n",
    "    </tr>\n",
    "</table>"
   ]
  },
  {
   "cell_type": "markdown",
   "id": "d59e8c68",
   "metadata": {},
   "source": [
    "Use the data given below:\n",
    "        \n",
    "    harry = [18.5, 17.4, 19.2, 16, 15.8, 13.4, 19.5]\n",
    "    ron = [19.7, 18.6, 21.3, 17.5, 23.8, 20.7, 21]"
   ]
  },
  {
   "cell_type": "code",
   "execution_count": 31,
   "id": "18943868",
   "metadata": {},
   "outputs": [
    {
     "data": {
      "text/plain": [
       "(-2.8788582527177526, 0.01385995160611642)"
      ]
     },
     "execution_count": 31,
     "metadata": {},
     "output_type": "execute_result"
    }
   ],
   "source": [
    "# type solution here\n",
    "harry = [18.5, 17.4, 19.2, 16, 15.8, 13.4, 19.5]\n",
    "ron = [19.7, 18.6, 21.3, 17.5, 23.8, 20.7, 21]\n",
    "t_stast,p_val=stats.ttest_ind(a=harry,b=ron)\n",
    "t_stast,p_val"
   ]
  },
  {
   "cell_type": "code",
   "execution_count": 36,
   "id": "9a05fc78",
   "metadata": {},
   "outputs": [
    {
     "data": {
      "text/plain": [
       "1.6448536269514729"
      ]
     },
     "execution_count": 36,
     "metadata": {},
     "output_type": "execute_result"
    }
   ],
   "source": [
    "stats.norm.isf(q=0.10/2)"
   ]
  },
  {
   "cell_type": "markdown",
   "id": "c0146bad",
   "metadata": {},
   "source": [
    "<table align=\"left\">\n",
    "    <tr>\n",
    "        <td width=\"6%\">\n",
    "            <img src=\"question_icon.png\">\n",
    "        </td>\n",
    "        <td>\n",
    "            <div align=\"left\", style=\"font-size:120%\">\n",
    "                <font color=\"#21618C\">\n",
    "                    <b>5. Research suggests that the fat content (in g) in the rice-bran oil of Nutura products is less than that of Markgen products. To test this claim we have recorded the fat content in 6 packs of 100 g oil from both the companies. Consider a 1% level of significance.</b>\n",
    "                </font>\n",
    "            </div>\n",
    "        </td>\n",
    "    </tr>\n",
    "</table>"
   ]
  },
  {
   "cell_type": "markdown",
   "id": "2830d785",
   "metadata": {},
   "source": [
    "Given data:\n",
    "\n",
    "        Nutura_fat = [99.5, 98, 98.6, 98.2, 96.8, 98.4]\n",
    "        Markgen_fat = [ 98.7, 91.8, 92.6, 97.5, 93, 96.1]"
   ]
  },
  {
   "cell_type": "code",
   "execution_count": 3,
   "id": "67dadfaf",
   "metadata": {},
   "outputs": [
    {
     "name": "stdout",
     "output_type": "stream",
     "text": [
      "Test statistic: 0.85\n",
      "P-Value: 0.03\n"
     ]
    }
   ],
   "source": [
    "Nutura_fat = [99.5, 98, 98.6, 98.2, 96.8, 98.4]\n",
    "Markgen_fat = [ 98.7, 91.8, 92.6, 97.5, 93, 96.1]\n",
    "fat = [99.5, 92, 98.6, 98.2, 96.8, 98.4, 98.7, 91.8, 92.6, 97.5, 93, 96.1]\n",
    "stat, p_value = shapiro(fat) \n",
    "print('Test statistic:', round(stat,2))\n",
    "print('P-Value:', round(p_value,2))"
   ]
  },
  {
   "cell_type": "code",
   "execution_count": 4,
   "id": "a7246748",
   "metadata": {},
   "outputs": [
    {
     "name": "stdout",
     "output_type": "stream",
     "text": [
      "p-value: 0.989\n"
     ]
    }
   ],
   "source": [
    "test_stat, p_value = stats.ttest_ind(Nutura_fat, Markgen_fat, alternative = 'less')\n",
    "print('p-value:', round(p_value,3))"
   ]
  },
  {
   "cell_type": "markdown",
   "id": "b7a6cf43",
   "metadata": {},
   "source": [
    "<a id='paired'></a>\n",
    "## 3.2.Two sample paired T-test"
   ]
  },
  {
   "cell_type": "markdown",
   "id": "03bb3956",
   "metadata": {},
   "source": [
    "<table align=\"left\">\n",
    "    <tr>\n",
    "        <td width=\"6%\">\n",
    "            <img src=\"question_icon.png\">\n",
    "        </td>\n",
    "        <td>\n",
    "            <div align=\"left\", style=\"font-size:120%\">\n",
    "                <font color=\"#21618C\">\n",
    "                        <b>6. The pharmaceutical company had organized a program to introduce its new drug to lower the sugar level. They recorded the fasting sugar (in mg/dl) of 25 diabetic people. Those people undergo a medication of the new drug for 10 days and again took a fasting sugar level test. The company claim that the sugar level decreases due to its new drug. Test the claim using p-value technique with 95% confidence.</b>\n",
    "                </font>\n",
    "            </div>\n",
    "        </td>\n",
    "    </tr>\n",
    "</table>"
   ]
  },
  {
   "cell_type": "markdown",
   "id": "05e0a2f5",
   "metadata": {},
   "source": [
    "Use the data given in the file `sugar_level.xlsx`"
   ]
  },
  {
   "cell_type": "code",
   "execution_count": 35,
   "id": "0b0fa518",
   "metadata": {
    "scrolled": true
   },
   "outputs": [
    {
     "data": {
      "text/html": [
       "<div>\n",
       "<style scoped>\n",
       "    .dataframe tbody tr th:only-of-type {\n",
       "        vertical-align: middle;\n",
       "    }\n",
       "\n",
       "    .dataframe tbody tr th {\n",
       "        vertical-align: top;\n",
       "    }\n",
       "\n",
       "    .dataframe thead th {\n",
       "        text-align: right;\n",
       "    }\n",
       "</style>\n",
       "<table border=\"1\" class=\"dataframe\">\n",
       "  <thead>\n",
       "    <tr style=\"text-align: right;\">\n",
       "      <th></th>\n",
       "      <th>sugar_before</th>\n",
       "      <th>sugar_after</th>\n",
       "    </tr>\n",
       "  </thead>\n",
       "  <tbody>\n",
       "    <tr>\n",
       "      <th>0</th>\n",
       "      <td>135</td>\n",
       "      <td>132</td>\n",
       "    </tr>\n",
       "    <tr>\n",
       "      <th>1</th>\n",
       "      <td>132</td>\n",
       "      <td>136</td>\n",
       "    </tr>\n",
       "  </tbody>\n",
       "</table>\n",
       "</div>"
      ],
      "text/plain": [
       "   sugar_before  sugar_after\n",
       "0           135          132\n",
       "1           132          136"
      ]
     },
     "execution_count": 35,
     "metadata": {},
     "output_type": "execute_result"
    }
   ],
   "source": [
    "# type solution here\n",
    "df_sugar=pd.read_excel('sugar_level.xlsx')\n",
    "df_sugar.head(2)"
   ]
  },
  {
   "cell_type": "code",
   "execution_count": 39,
   "id": "31cfea05",
   "metadata": {},
   "outputs": [
    {
     "data": {
      "text/plain": [
       "Ttest_relResult(statistic=-5.268469999584946, pvalue=2.108941394582287e-05)"
      ]
     },
     "execution_count": 39,
     "metadata": {},
     "output_type": "execute_result"
    }
   ],
   "source": [
    "stats.ttest_rel(df_sugar['sugar_after'],df_sugar['sugar_before'])"
   ]
  },
  {
   "cell_type": "markdown",
   "id": "370dc379",
   "metadata": {},
   "source": [
    "<table align=\"left\">\n",
    "    <tr>\n",
    "        <td width=\"6%\">\n",
    "            <img src=\"question_icon.png\">\n",
    "        </td>\n",
    "        <td>\n",
    "            <div align=\"left\", style=\"font-size:120%\">\n",
    "                <font color=\"#21618C\">\n",
    "                    <b>7. The gym trainer claims that the new aerobic exercise has reduced the weight of the customers. The weight in the last month before the aerobic exercise and weight in this month after the aerobic exercise is recorded for 6 people. Test the trainer's claim with 99% confidence.  </b>\n",
    "                </font>\n",
    "            </div>\n",
    "        </td>\n",
    "    </tr>\n",
    "</table>"
   ]
  },
  {
   "cell_type": "markdown",
   "id": "d69cca8b",
   "metadata": {},
   "source": [
    "Given data:\n",
    "\n",
    "        wt_before = [85, 74, 63.5, 69.4, 71.6, 65]\n",
    "        wt_after = [82, 71, 64, 65.2, 67.8, 64.7]"
   ]
  },
  {
   "cell_type": "code",
   "execution_count": 6,
   "id": "fd52cc8c",
   "metadata": {},
   "outputs": [
    {
     "name": "stdout",
     "output_type": "stream",
     "text": [
      "Test statistic: 0.915\n",
      "P-Value for Weights Before: 0.47\n"
     ]
    }
   ],
   "source": [
    "wt_before = [85, 74, 63.5, 69.4, 71.6, 65]\n",
    "wt_after = [82, 71, 64, 65.2, 67.8, 64.7]\n",
    "\n",
    "stat, p_value = shapiro(wt_before)\n",
    " \n",
    "print('Test statistic:', round(stat,3))\n",
    "print('P-Value for Weights Before:', round(p_value,3))"
   ]
  },
  {
   "cell_type": "code",
   "execution_count": 7,
   "id": "63f2d07f",
   "metadata": {},
   "outputs": [
    {
     "name": "stdout",
     "output_type": "stream",
     "text": [
      "Test statistic: 0.793\n",
      "P-Value for Weights Before: 0.05\n"
     ]
    }
   ],
   "source": [
    "stat, p_value = shapiro(wt_after)\n",
    "print('Test statistic:', round(stat,3))\n",
    "print('P-Value for Weights Before:', round(p_value,2))"
   ]
  },
  {
   "cell_type": "code",
   "execution_count": 8,
   "id": "926439b6",
   "metadata": {},
   "outputs": [
    {
     "name": "stdout",
     "output_type": "stream",
     "text": [
      "p-value: 0.017\n"
     ]
    }
   ],
   "source": [
    "test_stat, p_value = stats.ttest_rel(wt_before,wt_after, alternative = 'greater')\n",
    "print('p-value:', round(p_value,3))"
   ]
  },
  {
   "cell_type": "markdown",
   "id": "3df62022",
   "metadata": {},
   "source": [
    "<a id = \"chisq\"> </a>\n",
    "## 4. Chi-Square Test"
   ]
  },
  {
   "cell_type": "markdown",
   "id": "06bbd762",
   "metadata": {},
   "source": [
    "Use the data available in the CSV file `Employee_Attrition.csv` for questions 1 to 6."
   ]
  },
  {
   "cell_type": "markdown",
   "id": "71f6f1ff",
   "metadata": {},
   "source": [
    "please use below dataset"
   ]
  },
  {
   "cell_type": "code",
   "execution_count": 9,
   "id": "818fd3b5",
   "metadata": {
    "scrolled": true
   },
   "outputs": [
    {
     "data": {
      "text/html": [
       "<div>\n",
       "<style scoped>\n",
       "    .dataframe tbody tr th:only-of-type {\n",
       "        vertical-align: middle;\n",
       "    }\n",
       "\n",
       "    .dataframe tbody tr th {\n",
       "        vertical-align: top;\n",
       "    }\n",
       "\n",
       "    .dataframe thead th {\n",
       "        text-align: right;\n",
       "    }\n",
       "</style>\n",
       "<table border=\"1\" class=\"dataframe\">\n",
       "  <thead>\n",
       "    <tr style=\"text-align: right;\">\n",
       "      <th></th>\n",
       "      <th>Age</th>\n",
       "      <th>Attrition</th>\n",
       "      <th>BusinessTravel</th>\n",
       "      <th>DailyRate</th>\n",
       "      <th>Department</th>\n",
       "      <th>DistanceFromHome</th>\n",
       "      <th>Education</th>\n",
       "      <th>EducationField</th>\n",
       "      <th>EmployeeCount</th>\n",
       "      <th>EmployeeNumber</th>\n",
       "      <th>...</th>\n",
       "      <th>RelationshipSatisfaction</th>\n",
       "      <th>StandardHours</th>\n",
       "      <th>StockOptionLevel</th>\n",
       "      <th>TotalWorkingYears</th>\n",
       "      <th>TrainingTimesLastYear</th>\n",
       "      <th>WorkLifeBalance</th>\n",
       "      <th>YearsAtCompany</th>\n",
       "      <th>YearsInCurrentRole</th>\n",
       "      <th>YearsSinceLastPromotion</th>\n",
       "      <th>YearsWithCurrManager</th>\n",
       "    </tr>\n",
       "  </thead>\n",
       "  <tbody>\n",
       "    <tr>\n",
       "      <th>0</th>\n",
       "      <td>41</td>\n",
       "      <td>Yes</td>\n",
       "      <td>Travel_Rarely</td>\n",
       "      <td>1102</td>\n",
       "      <td>Sales</td>\n",
       "      <td>1</td>\n",
       "      <td>2</td>\n",
       "      <td>Life Sciences</td>\n",
       "      <td>1</td>\n",
       "      <td>1</td>\n",
       "      <td>...</td>\n",
       "      <td>1</td>\n",
       "      <td>80</td>\n",
       "      <td>0</td>\n",
       "      <td>8</td>\n",
       "      <td>0</td>\n",
       "      <td>1</td>\n",
       "      <td>6</td>\n",
       "      <td>4</td>\n",
       "      <td>0</td>\n",
       "      <td>5</td>\n",
       "    </tr>\n",
       "    <tr>\n",
       "      <th>1</th>\n",
       "      <td>49</td>\n",
       "      <td>No</td>\n",
       "      <td>Travel_Frequently</td>\n",
       "      <td>279</td>\n",
       "      <td>Research &amp; Development</td>\n",
       "      <td>8</td>\n",
       "      <td>1</td>\n",
       "      <td>Life Sciences</td>\n",
       "      <td>1</td>\n",
       "      <td>2</td>\n",
       "      <td>...</td>\n",
       "      <td>4</td>\n",
       "      <td>80</td>\n",
       "      <td>1</td>\n",
       "      <td>10</td>\n",
       "      <td>3</td>\n",
       "      <td>3</td>\n",
       "      <td>10</td>\n",
       "      <td>7</td>\n",
       "      <td>1</td>\n",
       "      <td>7</td>\n",
       "    </tr>\n",
       "  </tbody>\n",
       "</table>\n",
       "<p>2 rows × 35 columns</p>\n",
       "</div>"
      ],
      "text/plain": [
       "   Age Attrition     BusinessTravel  DailyRate              Department  \\\n",
       "0   41       Yes      Travel_Rarely       1102                   Sales   \n",
       "1   49        No  Travel_Frequently        279  Research & Development   \n",
       "\n",
       "   DistanceFromHome  Education EducationField  EmployeeCount  EmployeeNumber  \\\n",
       "0                 1          2  Life Sciences              1               1   \n",
       "1                 8          1  Life Sciences              1               2   \n",
       "\n",
       "   ...  RelationshipSatisfaction StandardHours  StockOptionLevel  \\\n",
       "0  ...                         1            80                 0   \n",
       "1  ...                         4            80                 1   \n",
       "\n",
       "   TotalWorkingYears  TrainingTimesLastYear WorkLifeBalance  YearsAtCompany  \\\n",
       "0                  8                      0               1               6   \n",
       "1                 10                      3               3              10   \n",
       "\n",
       "  YearsInCurrentRole  YearsSinceLastPromotion  YearsWithCurrManager  \n",
       "0                  4                        0                     5  \n",
       "1                  7                        1                     7  \n",
       "\n",
       "[2 rows x 35 columns]"
      ]
     },
     "execution_count": 9,
     "metadata": {},
     "output_type": "execute_result"
    }
   ],
   "source": [
    "#read the sample data \n",
    "df_emp = pd.read_csv('Employee_Attrition.csv')\n",
    "\n",
    "#display the first two observations\n",
    "df_emp.head(2)"
   ]
  },
  {
   "cell_type": "code",
   "execution_count": 78,
   "id": "9ecaea29",
   "metadata": {},
   "outputs": [
    {
     "data": {
      "text/plain": [
       "Index(['Age', 'BusinessTravel', 'DailyRate', 'DistanceFromHome', 'Education',\n",
       "       'EducationField', 'EmployeeCount', 'EmployeeNumber',\n",
       "       'EnvironmentSatisfaction', 'HourlyRate', 'JobInvolvement', 'JobLevel',\n",
       "       'JobSatisfaction', 'MaritalStatus', 'MonthlyIncome', 'MonthlyRate',\n",
       "       'NumCompaniesWorked', 'Over18', 'OverTime', 'PercentSalaryHike',\n",
       "       'PerformanceRating', 'RelationshipSatisfaction', 'StandardHours',\n",
       "       'StockOptionLevel', 'TotalWorkingYears', 'TrainingTimesLastYear',\n",
       "       'WorkLifeBalance', 'YearsAtCompany', 'YearsInCurrentRole',\n",
       "       'YearsSinceLastPromotion', 'YearsWithCurrManager'],\n",
       "      dtype='object')"
      ]
     },
     "execution_count": 78,
     "metadata": {},
     "output_type": "execute_result"
    }
   ],
   "source": [
    "df_emp.columns"
   ]
  },
  {
   "cell_type": "markdown",
   "id": "813e89ee",
   "metadata": {},
   "source": [
    "<table align=\"left\">\n",
    "    <tr>\n",
    "        <td width=\"6%\">\n",
    "            <img src=\"question_icon.png\">\n",
    "        </td>\n",
    "        <td>\n",
    "            <div align=\"left\", style=\"font-size:120%\">\n",
    "                <font color=\"#21618C\">\n",
    "                    <b>8. A company in Los Angeles has three functional departments - Research and Development, Sales, and Human Resources. The company claims that the percentage of employees in these 3 departments is 55%, 35% and 10% respectively. Check the company's claim using p-value criteria. Consider a 5% level of significance.</b>\n",
    "                </font>\n",
    "            </div>\n",
    "        </td>\n",
    "    </tr>\n",
    "</table>"
   ]
  },
  {
   "cell_type": "code",
   "execution_count": 41,
   "id": "036fa38a",
   "metadata": {
    "scrolled": true
   },
   "outputs": [
    {
     "data": {
      "text/plain": [
       "Research & Development    961\n",
       "Sales                     446\n",
       "Human Resources            63\n",
       "Name: Department, dtype: int64"
      ]
     },
     "execution_count": 41,
     "metadata": {},
     "output_type": "execute_result"
    }
   ],
   "source": [
    "# type solution here\n",
    "df_emp['Department'].value_counts()"
   ]
  },
  {
   "cell_type": "code",
   "execution_count": 44,
   "id": "aa707537",
   "metadata": {},
   "outputs": [
    {
     "data": {
      "text/plain": [
       "array([808.5, 514.5, 147. ])"
      ]
     },
     "execution_count": 44,
     "metadata": {},
     "output_type": "execute_result"
    }
   ],
   "source": [
    "ob_val=[961,446,63]\n",
    "exp_per=[0.55,0.35,0.10]\n",
    "exp_val=np.array(exp_per)*len(df_emp)\n",
    "exp_val"
   ]
  },
  {
   "cell_type": "code",
   "execution_count": 45,
   "id": "cd332087",
   "metadata": {},
   "outputs": [
    {
     "data": {
      "text/plain": [
       "(85.88470712960503, 2.2406437256053955e-19)"
      ]
     },
     "execution_count": 45,
     "metadata": {},
     "output_type": "execute_result"
    }
   ],
   "source": [
    "stats,p_value=chisquare(f_obs=ob_val,f_exp=exp_val)\n",
    "stats,p_value"
   ]
  },
  {
   "cell_type": "markdown",
   "id": "4d1cba4b",
   "metadata": {},
   "source": [
    "<table align=\"left\">\n",
    "    <tr>\n",
    "        <td width=\"6%\">\n",
    "            <img src=\"question_icon.png\">\n",
    "        </td>\n",
    "        <td>\n",
    "            <div align=\"left\", style=\"font-size:120%\">\n",
    "                <font color=\"#21618C\">\n",
    "                    <b>9. The employees in an IT firm undergo an online assessment survey. The survey reveals that 20% of employees are least satisfied, 18% are fairly satisfied, 30% are moderately satisfied and 32% are highly satisfied with their job. Use a critical value method to test the survey result with 90% confidence.</b>\n",
    "                </font>\n",
    "            </div>\n",
    "        </td>\n",
    "    </tr>\n",
    "</table>"
   ]
  },
  {
   "cell_type": "code",
   "execution_count": 48,
   "id": "29c2ed79",
   "metadata": {
    "scrolled": true
   },
   "outputs": [
    {
     "data": {
      "text/plain": [
       "4    459\n",
       "3    442\n",
       "1    289\n",
       "2    280\n",
       "Name: JobSatisfaction, dtype: int64"
      ]
     },
     "execution_count": 48,
     "metadata": {},
     "output_type": "execute_result"
    }
   ],
   "source": [
    "# type solution here\n",
    "df_emp['JobSatisfaction'].value_counts()"
   ]
  },
  {
   "cell_type": "code",
   "execution_count": 60,
   "id": "604121b6",
   "metadata": {},
   "outputs": [
    {
     "data": {
      "text/plain": [
       "array([470.4, 441. , 264.6, 294. ])"
      ]
     },
     "execution_count": 60,
     "metadata": {},
     "output_type": "execute_result"
    }
   ],
   "source": [
    "ob_val=[459,442,280,289]\n",
    "exp_per=[0.32,0.30,0.18,0.2]\n",
    "exp_val=np.array(exp_per)*len(df_emp)\n",
    "exp_val"
   ]
  },
  {
   "cell_type": "code",
   "execution_count": 61,
   "id": "6f296574",
   "metadata": {
    "scrolled": true
   },
   "outputs": [
    {
     "data": {
      "text/plain": [
       "(1.2598733938019708, 0.7386828586247451)"
      ]
     },
     "execution_count": 61,
     "metadata": {},
     "output_type": "execute_result"
    }
   ],
   "source": [
    "stats,p_value=chisquare(f_obs=ob_val,f_exp=exp_val)\n",
    "stats,p_value"
   ]
  },
  {
   "cell_type": "code",
   "execution_count": 64,
   "id": "a07e8b83",
   "metadata": {},
   "outputs": [
    {
     "data": {
      "text/plain": [
       "6.2513886311703235"
      ]
     },
     "execution_count": 64,
     "metadata": {},
     "output_type": "execute_result"
    }
   ],
   "source": [
    "stats.chi2.isf(q=0.1,df=3)"
   ]
  },
  {
   "cell_type": "markdown",
   "id": "efffe039",
   "metadata": {},
   "source": [
    "<table align=\"left\">\n",
    "    <tr>\n",
    "        <td width=\"6%\">\n",
    "            <img src=\"question_icon.png\">\n",
    "        </td>\n",
    "        <td>\n",
    "            <div align=\"left\", style=\"font-size:120%\">\n",
    "                <font color=\"#21618C\">\n",
    "                    <b>10. Check whether travelling for work depends upon the job role of an employee. Use p-value criteria to test the dependence with 99% confidence.</b>\n",
    "                </font>\n",
    "            </div>\n",
    "        </td>\n",
    "    </tr>\n",
    "</table>"
   ]
  },
  {
   "cell_type": "code",
   "execution_count": 66,
   "id": "b98f9285",
   "metadata": {
    "scrolled": true
   },
   "outputs": [
    {
     "data": {
      "text/html": [
       "<div>\n",
       "<style scoped>\n",
       "    .dataframe tbody tr th:only-of-type {\n",
       "        vertical-align: middle;\n",
       "    }\n",
       "\n",
       "    .dataframe tbody tr th {\n",
       "        vertical-align: top;\n",
       "    }\n",
       "\n",
       "    .dataframe thead th {\n",
       "        text-align: right;\n",
       "    }\n",
       "</style>\n",
       "<table border=\"1\" class=\"dataframe\">\n",
       "  <thead>\n",
       "    <tr style=\"text-align: right;\">\n",
       "      <th>JobRole</th>\n",
       "      <th>Healthcare Representative</th>\n",
       "      <th>Human Resources</th>\n",
       "      <th>Laboratory Technician</th>\n",
       "      <th>Manager</th>\n",
       "      <th>Manufacturing Director</th>\n",
       "      <th>Research Director</th>\n",
       "      <th>Research Scientist</th>\n",
       "      <th>Sales Executive</th>\n",
       "      <th>Sales Representative</th>\n",
       "    </tr>\n",
       "    <tr>\n",
       "      <th>BusinessTravel</th>\n",
       "      <th></th>\n",
       "      <th></th>\n",
       "      <th></th>\n",
       "      <th></th>\n",
       "      <th></th>\n",
       "      <th></th>\n",
       "      <th></th>\n",
       "      <th></th>\n",
       "      <th></th>\n",
       "    </tr>\n",
       "  </thead>\n",
       "  <tbody>\n",
       "    <tr>\n",
       "      <th>Non-Travel</th>\n",
       "      <td>15</td>\n",
       "      <td>4</td>\n",
       "      <td>28</td>\n",
       "      <td>12</td>\n",
       "      <td>13</td>\n",
       "      <td>6</td>\n",
       "      <td>28</td>\n",
       "      <td>39</td>\n",
       "      <td>5</td>\n",
       "    </tr>\n",
       "    <tr>\n",
       "      <th>Travel_Frequently</th>\n",
       "      <td>26</td>\n",
       "      <td>10</td>\n",
       "      <td>51</td>\n",
       "      <td>13</td>\n",
       "      <td>29</td>\n",
       "      <td>12</td>\n",
       "      <td>54</td>\n",
       "      <td>59</td>\n",
       "      <td>23</td>\n",
       "    </tr>\n",
       "    <tr>\n",
       "      <th>Travel_Rarely</th>\n",
       "      <td>90</td>\n",
       "      <td>38</td>\n",
       "      <td>180</td>\n",
       "      <td>77</td>\n",
       "      <td>103</td>\n",
       "      <td>62</td>\n",
       "      <td>210</td>\n",
       "      <td>228</td>\n",
       "      <td>55</td>\n",
       "    </tr>\n",
       "  </tbody>\n",
       "</table>\n",
       "</div>"
      ],
      "text/plain": [
       "JobRole            Healthcare Representative  Human Resources  \\\n",
       "BusinessTravel                                                  \n",
       "Non-Travel                                15                4   \n",
       "Travel_Frequently                         26               10   \n",
       "Travel_Rarely                             90               38   \n",
       "\n",
       "JobRole            Laboratory Technician  Manager  Manufacturing Director  \\\n",
       "BusinessTravel                                                              \n",
       "Non-Travel                            28       12                      13   \n",
       "Travel_Frequently                     51       13                      29   \n",
       "Travel_Rarely                        180       77                     103   \n",
       "\n",
       "JobRole            Research Director  Research Scientist  Sales Executive  \\\n",
       "BusinessTravel                                                              \n",
       "Non-Travel                         6                  28               39   \n",
       "Travel_Frequently                 12                  54               59   \n",
       "Travel_Rarely                     62                 210              228   \n",
       "\n",
       "JobRole            Sales Representative  \n",
       "BusinessTravel                           \n",
       "Non-Travel                            5  \n",
       "Travel_Frequently                    23  \n",
       "Travel_Rarely                        55  "
      ]
     },
     "execution_count": 66,
     "metadata": {},
     "output_type": "execute_result"
    }
   ],
   "source": [
    "# type solution here\n",
    "table=pd.crosstab(df_emp['BusinessTravel'],df_emp['JobRole'])\n",
    "table"
   ]
  },
  {
   "cell_type": "code",
   "execution_count": 68,
   "id": "b62f2f4a",
   "metadata": {},
   "outputs": [
    {
     "data": {
      "text/plain": [
       "array([[ 15,   4,  28,  12,  13,   6,  28,  39,   5],\n",
       "       [ 26,  10,  51,  13,  29,  12,  54,  59,  23],\n",
       "       [ 90,  38, 180,  77, 103,  62, 210, 228,  55]], dtype=int64)"
      ]
     },
     "execution_count": 68,
     "metadata": {},
     "output_type": "execute_result"
    }
   ],
   "source": [
    "obs_val=table.values\n",
    "obs_val"
   ]
  },
  {
   "cell_type": "code",
   "execution_count": 72,
   "id": "1a18f690",
   "metadata": {},
   "outputs": [],
   "source": [
    "test_stat, p, dof, expected_value=chi2_contingency(observed=obs_val,correction=False)"
   ]
  },
  {
   "cell_type": "code",
   "execution_count": 73,
   "id": "ec6d53ed",
   "metadata": {},
   "outputs": [
    {
     "name": "stdout",
     "output_type": "stream",
     "text": [
      "0.7448263418408124\n"
     ]
    }
   ],
   "source": [
    "print(p)"
   ]
  },
  {
   "cell_type": "code",
   "execution_count": null,
   "id": "d3d51bd3",
   "metadata": {},
   "outputs": [],
   "source": [
    "#p value> alpha"
   ]
  },
  {
   "cell_type": "code",
   "execution_count": null,
   "id": "88c6d3e6",
   "metadata": {},
   "outputs": [],
   "source": [
    "# we failed to reject"
   ]
  },
  {
   "cell_type": "code",
   "execution_count": 76,
   "id": "24d60b68",
   "metadata": {},
   "outputs": [
    {
     "data": {
      "text/plain": [
       "Index(['Age', 'BusinessTravel', 'DailyRate', 'DistanceFromHome', 'Education',\n",
       "       'EducationField', 'EmployeeCount', 'EmployeeNumber',\n",
       "       'EnvironmentSatisfaction', 'HourlyRate', 'JobInvolvement', 'JobLevel',\n",
       "       'JobSatisfaction', 'MaritalStatus', 'MonthlyIncome', 'MonthlyRate',\n",
       "       'NumCompaniesWorked', 'Over18', 'OverTime', 'PercentSalaryHike',\n",
       "       'PerformanceRating', 'RelationshipSatisfaction', 'StandardHours',\n",
       "       'StockOptionLevel', 'TotalWorkingYears', 'TrainingTimesLastYear',\n",
       "       'WorkLifeBalance', 'YearsAtCompany', 'YearsInCurrentRole',\n",
       "       'YearsSinceLastPromotion', 'YearsWithCurrManager'],\n",
       "      dtype='object')"
      ]
     },
     "execution_count": 76,
     "metadata": {},
     "output_type": "execute_result"
    }
   ],
   "source": [
    "df_emp.columns"
   ]
  },
  {
   "cell_type": "markdown",
   "id": "d89f049e",
   "metadata": {},
   "source": [
    "<table align=\"left\">\n",
    "    <tr>\n",
    "        <td width=\"6%\">\n",
    "            <img src=\"question_icon.png\">\n",
    "        </td>\n",
    "        <td>\n",
    "            <div align=\"left\", style=\"font-size:120%\">\n",
    "                <font color=\"#21618C\">\n",
    "                    <b>11. Is there any relationship between the attrition of an employee and his/her marital status? Use the critical value technique to test the relationship with 95% confidence. </b>\n",
    "                </font>\n",
    "            </div>\n",
    "        </td>\n",
    "    </tr>\n",
    "</table>"
   ]
  },
  {
   "cell_type": "code",
   "execution_count": 10,
   "id": "de3ea597",
   "metadata": {},
   "outputs": [
    {
     "data": {
      "text/plain": [
       "array([[294, 589, 350],\n",
       "       [ 33,  84, 120]], dtype=int64)"
      ]
     },
     "execution_count": 10,
     "metadata": {},
     "output_type": "execute_result"
    }
   ],
   "source": [
    "# type solution here\n",
    "table = pd.crosstab(df_emp['Attrition'], df_emp['MaritalStatus'])  \n",
    "observed_value = table.values\n",
    "observed_value"
   ]
  },
  {
   "cell_type": "code",
   "execution_count": 11,
   "id": "3dee78a8",
   "metadata": {},
   "outputs": [
    {
     "name": "stdout",
     "output_type": "stream",
     "text": [
      "Critical value for chi-square test: 5.991464547107983\n"
     ]
    }
   ],
   "source": [
    "chi2_val = stats.chi2.isf(q = 0.05, df = 2)\n",
    "\n",
    "print('Critical value for chi-square test:', chi2_val)"
   ]
  },
  {
   "cell_type": "code",
   "execution_count": 12,
   "id": "f5f3a0f7",
   "metadata": {},
   "outputs": [
    {
     "name": "stdout",
     "output_type": "stream",
     "text": [
      "Test statistic: 46.163676540848705\n"
     ]
    }
   ],
   "source": [
    "test_stat, p, dof, expected_value = chi2_contingency(observed = observed_value, correction = False)\n",
    "\n",
    "print(\"Test statistic:\", test_stat)"
   ]
  },
  {
   "cell_type": "markdown",
   "id": "efbadc5a",
   "metadata": {},
   "source": [
    "<a id = \"1way\"> </a>\n",
    "## 5. One-way ANOVA"
   ]
  },
  {
   "cell_type": "markdown",
   "id": "feb608ff",
   "metadata": {},
   "source": [
    "Use the data available in the CSV file `sales_emp.csv` for questions 7 to 11."
   ]
  },
  {
   "cell_type": "markdown",
   "id": "d7f11e33",
   "metadata": {},
   "source": [
    "Please use below dataset"
   ]
  },
  {
   "cell_type": "code",
   "execution_count": 4,
   "id": "a895455f",
   "metadata": {},
   "outputs": [
    {
     "data": {
      "text/html": [
       "<div>\n",
       "<style scoped>\n",
       "    .dataframe tbody tr th:only-of-type {\n",
       "        vertical-align: middle;\n",
       "    }\n",
       "\n",
       "    .dataframe tbody tr th {\n",
       "        vertical-align: top;\n",
       "    }\n",
       "\n",
       "    .dataframe thead th {\n",
       "        text-align: right;\n",
       "    }\n",
       "</style>\n",
       "<table border=\"1\" class=\"dataframe\">\n",
       "  <thead>\n",
       "    <tr style=\"text-align: right;\">\n",
       "      <th></th>\n",
       "      <th>Age</th>\n",
       "      <th>BusinessTravel</th>\n",
       "      <th>DailyRate</th>\n",
       "      <th>DistanceFromHome</th>\n",
       "      <th>Education</th>\n",
       "      <th>EducationField</th>\n",
       "      <th>EmployeeCount</th>\n",
       "      <th>EmployeeNumber</th>\n",
       "      <th>EnvironmentSatisfaction</th>\n",
       "      <th>HourlyRate</th>\n",
       "      <th>...</th>\n",
       "      <th>RelationshipSatisfaction</th>\n",
       "      <th>StandardHours</th>\n",
       "      <th>StockOptionLevel</th>\n",
       "      <th>TotalWorkingYears</th>\n",
       "      <th>TrainingTimesLastYear</th>\n",
       "      <th>WorkLifeBalance</th>\n",
       "      <th>YearsAtCompany</th>\n",
       "      <th>YearsInCurrentRole</th>\n",
       "      <th>YearsSinceLastPromotion</th>\n",
       "      <th>YearsWithCurrManager</th>\n",
       "    </tr>\n",
       "  </thead>\n",
       "  <tbody>\n",
       "    <tr>\n",
       "      <th>0</th>\n",
       "      <td>36</td>\n",
       "      <td>Travel_Rarely</td>\n",
       "      <td>1218</td>\n",
       "      <td>9</td>\n",
       "      <td>4</td>\n",
       "      <td>Life Sciences</td>\n",
       "      <td>1</td>\n",
       "      <td>27</td>\n",
       "      <td>3</td>\n",
       "      <td>82</td>\n",
       "      <td>...</td>\n",
       "      <td>2</td>\n",
       "      <td>80</td>\n",
       "      <td>0</td>\n",
       "      <td>10</td>\n",
       "      <td>4</td>\n",
       "      <td>3</td>\n",
       "      <td>5</td>\n",
       "      <td>3</td>\n",
       "      <td>0</td>\n",
       "      <td>3</td>\n",
       "    </tr>\n",
       "    <tr>\n",
       "      <th>1</th>\n",
       "      <td>39</td>\n",
       "      <td>Travel_Rarely</td>\n",
       "      <td>895</td>\n",
       "      <td>5</td>\n",
       "      <td>3</td>\n",
       "      <td>Technical Degree</td>\n",
       "      <td>1</td>\n",
       "      <td>42</td>\n",
       "      <td>4</td>\n",
       "      <td>56</td>\n",
       "      <td>...</td>\n",
       "      <td>3</td>\n",
       "      <td>80</td>\n",
       "      <td>1</td>\n",
       "      <td>19</td>\n",
       "      <td>6</td>\n",
       "      <td>4</td>\n",
       "      <td>1</td>\n",
       "      <td>0</td>\n",
       "      <td>0</td>\n",
       "      <td>0</td>\n",
       "    </tr>\n",
       "  </tbody>\n",
       "</table>\n",
       "<p>2 rows × 31 columns</p>\n",
       "</div>"
      ],
      "text/plain": [
       "   Age BusinessTravel  DailyRate  DistanceFromHome  Education  \\\n",
       "0   36  Travel_Rarely       1218                 9          4   \n",
       "1   39  Travel_Rarely        895                 5          3   \n",
       "\n",
       "     EducationField  EmployeeCount  EmployeeNumber  EnvironmentSatisfaction  \\\n",
       "0     Life Sciences              1              27                        3   \n",
       "1  Technical Degree              1              42                        4   \n",
       "\n",
       "   HourlyRate  ...  RelationshipSatisfaction  StandardHours  StockOptionLevel  \\\n",
       "0          82  ...                         2             80                 0   \n",
       "1          56  ...                         3             80                 1   \n",
       "\n",
       "  TotalWorkingYears  TrainingTimesLastYear  WorkLifeBalance  YearsAtCompany  \\\n",
       "0                10                      4                3               5   \n",
       "1                19                      6                4               1   \n",
       "\n",
       "  YearsInCurrentRole YearsSinceLastPromotion  YearsWithCurrManager  \n",
       "0                  3                       0                     3  \n",
       "1                  0                       0                     0  \n",
       "\n",
       "[2 rows x 31 columns]"
      ]
     },
     "execution_count": 4,
     "metadata": {},
     "output_type": "execute_result"
    }
   ],
   "source": [
    "#read the sample data \n",
    "df_emp = pd.read_csv('sales_emp.csv')\n",
    "\n",
    "#display the first two observations\n",
    "df_emp.head(2)"
   ]
  },
  {
   "cell_type": "markdown",
   "id": "369e94ec",
   "metadata": {},
   "source": [
    " <table align=\"left\">\n",
    "    <tr>\n",
    "        <td width=\"6%\">\n",
    "            <img src=\"question_icon.png\">\n",
    "        </td>\n",
    "        <td>\n",
    "            <div align=\"left\", style=\"font-size:120%\">\n",
    "                <font color=\"#21618C\">\n",
    "                    <b>12. Use the sales employees' dataset to test whether the average monthly income of sales executives with different education background is equal or not. Use a critical value method with 99% confidence.</b>\n",
    "                </font>\n",
    "            </div>\n",
    "        </td>\n",
    "    </tr>\n",
    "</table>"
   ]
  },
  {
   "cell_type": "code",
   "execution_count": 5,
   "id": "a5a7e3d2",
   "metadata": {},
   "outputs": [
    {
     "data": {
      "text/html": [
       "<div>\n",
       "<style scoped>\n",
       "    .dataframe tbody tr th:only-of-type {\n",
       "        vertical-align: middle;\n",
       "    }\n",
       "\n",
       "    .dataframe tbody tr th {\n",
       "        vertical-align: top;\n",
       "    }\n",
       "\n",
       "    .dataframe thead th {\n",
       "        text-align: right;\n",
       "    }\n",
       "</style>\n",
       "<table border=\"1\" class=\"dataframe\">\n",
       "  <thead>\n",
       "    <tr style=\"text-align: right;\">\n",
       "      <th></th>\n",
       "      <th>df</th>\n",
       "      <th>sum_sq</th>\n",
       "      <th>mean_sq</th>\n",
       "      <th>F</th>\n",
       "      <th>PR(&gt;F)</th>\n",
       "    </tr>\n",
       "  </thead>\n",
       "  <tbody>\n",
       "    <tr>\n",
       "      <th>Q(\"EducationField\")</th>\n",
       "      <td>4.0</td>\n",
       "      <td>4.087768e+07</td>\n",
       "      <td>1.021942e+07</td>\n",
       "      <td>0.954603</td>\n",
       "      <td>0.440787</td>\n",
       "    </tr>\n",
       "    <tr>\n",
       "      <th>Residual</th>\n",
       "      <td>49.0</td>\n",
       "      <td>5.245652e+08</td>\n",
       "      <td>1.070541e+07</td>\n",
       "      <td>NaN</td>\n",
       "      <td>NaN</td>\n",
       "    </tr>\n",
       "  </tbody>\n",
       "</table>\n",
       "</div>"
      ],
      "text/plain": [
       "                       df        sum_sq       mean_sq         F    PR(>F)\n",
       "Q(\"EducationField\")   4.0  4.087768e+07  1.021942e+07  0.954603  0.440787\n",
       "Residual             49.0  5.245652e+08  1.070541e+07       NaN       NaN"
      ]
     },
     "execution_count": 5,
     "metadata": {},
     "output_type": "execute_result"
    }
   ],
   "source": [
    "# type solution here\n",
    "test=ols('MonthlyIncome ~ Q(\"EducationField\")',df_emp).fit()\n",
    "anova=anova_lm(test,typ=1)\n",
    "anova"
   ]
  },
  {
   "cell_type": "markdown",
   "id": "adff7360",
   "metadata": {},
   "source": [
    "<table align=\"left\">\n",
    "    <tr>\n",
    "        <td width=\"6%\">\n",
    "            <img src=\"question_icon.png\">\n",
    "        </td>\n",
    "        <td>\n",
    "            <div align=\"left\", style=\"font-size:120%\">\n",
    "                <font color=\"#21618C\">\n",
    "                    <b>13. Can we use the given data of sales executives to check the equality of the average daily rate for different types of business travellers? Use a p-value technique to test at a 1% level of significance.</b>\n",
    "                </font>\n",
    "            </div>\n",
    "        </td>\n",
    "    </tr>\n",
    "</table>"
   ]
  },
  {
   "cell_type": "code",
   "execution_count": 16,
   "id": "8d77bd2c",
   "metadata": {},
   "outputs": [
    {
     "name": "stdout",
     "output_type": "stream",
     "text": [
      "p-value: 0.04\n"
     ]
    }
   ],
   "source": [
    "# type solution here\n",
    "stat, p_value = stats.shapiro(df_emp['DailyRate'])\n",
    "print('p-value:', round(p_value,3))"
   ]
  },
  {
   "cell_type": "code",
   "execution_count": 17,
   "id": "66984d80",
   "metadata": {},
   "outputs": [
    {
     "data": {
      "text/plain": [
       "array(['Travel_Rarely', 'Non-Travel', 'Travel_Frequently'], dtype=object)"
      ]
     },
     "execution_count": 17,
     "metadata": {},
     "output_type": "execute_result"
    }
   ],
   "source": [
    "df_emp['BusinessTravel'].unique()"
   ]
  },
  {
   "cell_type": "code",
   "execution_count": 19,
   "id": "54922938",
   "metadata": {},
   "outputs": [
    {
     "name": "stdout",
     "output_type": "stream",
     "text": [
      "P-Value: 0.231\n"
     ]
    }
   ],
   "source": [
    "stat, p_value = stats.levene(df_emp[df_emp['BusinessTravel'] == 'Travel_Rarely']['DailyRate'],\n",
    "                             df_emp[df_emp['BusinessTravel'] == 'Travel_Frequently']['DailyRate'],\n",
    "                             df_emp[df_emp['BusinessTravel'] == 'Non-Travel']['DailyRate'])\n",
    "\n",
    "print('P-Value:', round(p_value,3))"
   ]
  },
  {
   "cell_type": "markdown",
   "id": "cc3181ff",
   "metadata": {},
   "source": [
    "<table align=\"left\">\n",
    "    <tr>\n",
    "        <td width=\"6%\">\n",
    "            <img src=\"question_icon.png\">\n",
    "        </td>\n",
    "        <td>\n",
    "            <div align=\"left\", style=\"font-size:120%\">\n",
    "                <font color=\"#21618C\">\n",
    "                    <b>14. Use the parametric test to check the equality of the average daily rate for all the types of business travelling. Use a p-value technique to test the data with 99% confidence.</b>\n",
    "                </font>\n",
    "            </div>\n",
    "        </td>\n",
    "    </tr>\n",
    "</table>"
   ]
  },
  {
   "cell_type": "code",
   "execution_count": 20,
   "id": "648d72c0",
   "metadata": {},
   "outputs": [
    {
     "name": "stdout",
     "output_type": "stream",
     "text": [
      "p-value: 4.527131533131016e-06\n"
     ]
    }
   ],
   "source": [
    "test_stat, p_val = stats.f_oneway(df_emp[df_emp['BusinessTravel'] == 'Travel_Rarely']['DailyRate'],\n",
    "                                  df_emp[df_emp['BusinessTravel'] == 'Travel_Frequently']['DailyRate'],\n",
    "                                  df_emp[df_emp['BusinessTravel'] == 'Non-Travel']['DailyRate'])\n",
    "\n",
    "print('p-value:', p_val)"
   ]
  },
  {
   "cell_type": "markdown",
   "id": "4e947d34",
   "metadata": {},
   "source": [
    "<table align=\"left\">\n",
    "    <tr>\n",
    "        <td width=\"6%\">\n",
    "            <img src=\"question_icon.png\">\n",
    "        </td>\n",
    "        <td>\n",
    "            <div align=\"left\", style=\"font-size:120%\">\n",
    "                <font color=\"#21618C\">\n",
    "                    <b>15. Find the types of business travel for which the average daily rate is different. Use a 1% level of significance.</b>\n",
    "                </font>\n",
    "            </div>\n",
    "        </td>\n",
    "    </tr>\n",
    "</table>"
   ]
  },
  {
   "cell_type": "code",
   "execution_count": 21,
   "id": "539741d3",
   "metadata": {},
   "outputs": [
    {
     "data": {
      "text/plain": [
       "Travel_Rarely        18\n",
       "Non-Travel           18\n",
       "Travel_Frequently    18\n",
       "Name: BusinessTravel, dtype: int64"
      ]
     },
     "execution_count": 21,
     "metadata": {},
     "output_type": "execute_result"
    }
   ],
   "source": [
    "df_emp['BusinessTravel'].value_counts()"
   ]
  },
  {
   "cell_type": "code",
   "execution_count": 22,
   "id": "d3f6a7d2",
   "metadata": {},
   "outputs": [
    {
     "data": {
      "text/html": [
       "<table class=\"simpletable\">\n",
       "<caption>Multiple Comparison of Means - Tukey HSD, FWER=0.01</caption>\n",
       "<tr>\n",
       "       <th>group1</th>            <th>group2</th>       <th>meandiff</th>   <th>p-adj</th>   <th>lower</th>     <th>upper</th>  <th>reject</th>\n",
       "</tr>\n",
       "<tr>\n",
       "     <td>Non-Travel</td>     <td>Travel_Frequently</td> <td>639.7778</td>   <td>0.001</td> <td>289.6312</td>  <td>989.9243</td>  <td>True</td> \n",
       "</tr>\n",
       "<tr>\n",
       "     <td>Non-Travel</td>       <td>Travel_Rarely</td>   <td>242.6667</td>  <td>0.0972</td> <td>-107.4799</td> <td>592.8132</td>  <td>False</td>\n",
       "</tr>\n",
       "<tr>\n",
       "  <td>Travel_Frequently</td>   <td>Travel_Rarely</td>   <td>-397.1111</td> <td>0.0031</td> <td>-747.2577</td> <td>-46.9646</td>  <td>True</td> \n",
       "</tr>\n",
       "</table>"
      ],
      "text/plain": [
       "<class 'statsmodels.iolib.table.SimpleTable'>"
      ]
     },
     "execution_count": 22,
     "metadata": {},
     "output_type": "execute_result"
    }
   ],
   "source": [
    "comp = mc.MultiComparison(data = df_emp['DailyRate'], groups = df_emp['BusinessTravel']) \n",
    "post_hoc = comp.tukeyhsd(alpha = 0.01)\n",
    "post_hoc.summary()"
   ]
  },
  {
   "cell_type": "code",
   "execution_count": null,
   "id": "6fd01e47",
   "metadata": {},
   "outputs": [],
   "source": []
  }
 ],
 "metadata": {
  "kernelspec": {
   "display_name": "Python 3 (ipykernel)",
   "language": "python",
   "name": "python3"
  },
  "language_info": {
   "codemirror_mode": {
    "name": "ipython",
    "version": 3
   },
   "file_extension": ".py",
   "mimetype": "text/x-python",
   "name": "python",
   "nbconvert_exporter": "python",
   "pygments_lexer": "ipython3",
   "version": "3.9.7"
  }
 },
 "nbformat": 4,
 "nbformat_minor": 5
}

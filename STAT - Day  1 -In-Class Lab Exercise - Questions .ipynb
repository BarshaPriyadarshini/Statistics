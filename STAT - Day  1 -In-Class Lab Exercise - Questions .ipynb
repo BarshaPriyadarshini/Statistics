{
 "cells": [
  {
   "cell_type": "markdown",
   "metadata": {
    "colab_type": "text",
    "id": "0yzl3MKzf98L"
   },
   "source": [
    "<table align=\"center\" width=100%>\n",
    "    <tr>\n",
    "        <td width=\"20%\">\n",
    "            <img src=\"GL-2.png\">\n",
    "        </td>\n",
    "        <td>\n",
    "            <div align=\"center\">\n",
    "                <font color=\"#21618C\" size=8px>\n",
    "                    <b> Inclass-Lab  <br>(Day  1)\n",
    "                    </b>\n",
    "                </font>\n",
    "            </div>\n",
    "        </td>\n",
    "    </tr>\n",
    "</table>"
   ]
  },
  {
   "cell_type": "markdown",
   "metadata": {},
   "source": [
    "## Table of Content\n",
    "\n",
    "1. **[Sampling](#sample)**\n",
    "2. **[Descriptive Statistics](#descr)**\n",
    "3. **[Probability and Bayes Theorem](#prob)**"
   ]
  },
  {
   "cell_type": "markdown",
   "metadata": {},
   "source": [
    "**Import the required libraries**"
   ]
  },
  {
   "cell_type": "code",
   "execution_count": 1,
   "metadata": {},
   "outputs": [],
   "source": [
    "# type your code here\n",
    "import numpy  as np\n",
    "import pandas as pd\n",
    "import matplotlib.pyplot as plt\n",
    "import seaborn as sns\n",
    "from math import factorial\n",
    "from scipy import stats\n",
    "from scipy.stats import randint\n",
    "from scipy.stats import skewnorm\n",
    "import random"
   ]
  },
  {
   "cell_type": "markdown",
   "metadata": {
    "colab_type": "text",
    "id": "psOYFu6zf98N"
   },
   "source": [
    "### Let's begin with some hands-on practice exercises"
   ]
  },
  {
   "cell_type": "markdown",
   "metadata": {
    "colab_type": "text",
    "id": "GhwNCvTmf99O"
   },
   "source": [
    "<a id=\"sample\"></a>\n",
    "## 1. Sampling"
   ]
  },
  {
   "cell_type": "markdown",
   "metadata": {
    "colab_type": "text",
    "id": "EE_L86gBf99t"
   },
   "source": [
    "<table align=\"left\">\n",
    "    <tr>\n",
    "        <td width=\"6%\">\n",
    "            <img src=\"question_icon.png\">\n",
    "        </td>\n",
    "        <td>\n",
    "            <div align=\"left\", style=\"font-size:120%\">\n",
    "                <font color=\"#21618C\">\n",
    "                    <b>1. A farmer has planted 98 tomato plants last year. He has numbered each plant with numbers 1,2,...98. Now he wants to study the growth of the plants. Help the farmer to select 12 plants randomly as a sample for the study using an appropriate sampling technique.</b>\n",
    "                </font>\n",
    "            </div>\n",
    "        </td>\n",
    "    </tr>\n",
    "</table>"
   ]
  },
  {
   "cell_type": "code",
   "execution_count": 5,
   "metadata": {},
   "outputs": [
    {
     "data": {
      "text/plain": [
       "[39, 49, 3, 75, 34, 55, 9, 40, 92, 29, 97, 33]"
      ]
     },
     "execution_count": 5,
     "metadata": {},
     "output_type": "execute_result"
    }
   ],
   "source": [
    "# type your code here\n",
    "data=np.arange(1,99,1)\n",
    "sample_wor = random.sample(population = list(data), k = 12)\n",
    "sample_wor"
   ]
  },
  {
   "cell_type": "markdown",
   "metadata": {
    "colab_type": "text",
    "id": "-qD5ZQ7Bf99v"
   },
   "source": [
    "<table align=\"left\">\n",
    "    <tr>\n",
    "        <td width=\"6%\">\n",
    "            <img src=\"question_icon.png\">\n",
    "        </td>\n",
    "        <td>\n",
    "            <div align=\"left\", style=\"font-size:120%\">\n",
    "                <font color=\"#21618C\">\n",
    "                    <b>2. Ron found gold, silver and copper coin on his way home. He asked 10 people to choose a coin randomly. He then created a list of coins chosen by each individual. Find one of the possible sample space for this experiment using an appropriate sampling technique. </b>\n",
    "                </font>\n",
    "            </div>\n",
    "        </td>\n",
    "    </tr>\n",
    "</table>"
   ]
  },
  {
   "cell_type": "code",
   "execution_count": 6,
   "metadata": {},
   "outputs": [
    {
     "data": {
      "text/plain": [
       "['copper',\n",
       " 'gold',\n",
       " 'gold',\n",
       " 'copper',\n",
       " 'gold',\n",
       " 'silver',\n",
       " 'gold',\n",
       " 'gold',\n",
       " 'copper',\n",
       " 'gold']"
      ]
     },
     "execution_count": 6,
     "metadata": {},
     "output_type": "execute_result"
    }
   ],
   "source": [
    "# type your code here\n",
    "coin=['gold','silver','copper']\n",
    "sample_wr = random.choices(population = coin, k = 10)\n",
    "sample_wr"
   ]
  },
  {
   "cell_type": "markdown",
   "metadata": {
    "colab_type": "text",
    "id": "r4J-iIEhf98N"
   },
   "source": [
    "<a id = \"descr\"> </a>\n",
    "## 2. Descriptive Statistics "
   ]
  },
  {
   "cell_type": "markdown",
   "metadata": {
    "colab_type": "text",
    "id": "9qnEEhR4f98X"
   },
   "source": [
    "<table align=\"left\">\n",
    "    <tr>\n",
    "        <td width=\"6%\">\n",
    "            <img src=\"question_icon.png\">\n",
    "        </td>\n",
    "        <td>\n",
    "            <div align=\"left\", style=\"font-size:120%\">\n",
    "                <font color=\"#21618C\">\n",
    "                    <b>3. An ice-cream manufacturer wants to study the sales of ice-creams to decide the production policies of the company. He collects the data for the number of ice-creams sold in a month from all the 30 franchise. Find the mean and median sales of all the franchises .</b>\n",
    "                </font>\n",
    "            </div>\n",
    "        </td>\n",
    "    </tr>\n",
    "</table>"
   ]
  },
  {
   "cell_type": "markdown",
   "metadata": {},
   "source": [
    "Given Data \n",
    "\n",
    "sales = [21, 93, 62, 76, 73, 20, 56, 95, 41, 36, 38, 13, 80, 88, 34, 18, 40, 11, 25, 29, 61, 23, 82, 10, 92, 69, 60, 87, 14, 91]"
   ]
  },
  {
   "cell_type": "code",
   "execution_count": 7,
   "metadata": {},
   "outputs": [
    {
     "name": "stdout",
     "output_type": "stream",
     "text": [
      "51.266666666666666\n",
      "48.5\n"
     ]
    }
   ],
   "source": [
    "# type your code here\n",
    "sales = [21, 93, 62, 76, 73, 20, 56, 95, 41, 36, 38, 13, 80, 88, 34, 18, 40, 11, 25, 29, 61, 23, 82, 10, 92, 69, 60, 87, 14, 91]\n",
    "d1=np.mean(sales)\n",
    "d2=np.median(sales)\n",
    "print(d1)\n",
    "print(d2)"
   ]
  },
  {
   "cell_type": "markdown",
   "metadata": {
    "colab_type": "text",
    "id": "9qnEEhR4f98X"
   },
   "source": [
    "<table align=\"left\">\n",
    "    <tr>\n",
    "        <td width=\"6%\">\n",
    "            <img src=\"question_icon.png\">\n",
    "        </td>\n",
    "        <td>\n",
    "            <div align=\"left\", style=\"font-size:120%\">\n",
    "                <font color=\"#21618C\">\n",
    "                    <b>4. Use the data given in the previous question to calculate the standard deviation of ice-cream sales.Also find the range in which the middle 50% of the sales would lie.</b>\n",
    "                </font>\n",
    "            </div>\n",
    "        </td>\n",
    "    </tr>\n",
    "</table>"
   ]
  },
  {
   "cell_type": "markdown",
   "metadata": {},
   "source": [
    "Given Data \n",
    "\n",
    "sales = [21, 93, 62, 76, 73, 20, 56, 95, 41, 36, 38, 13, 80, 88, 34, 18, 40, 11, 25, 29, 61, 23, 82, 10, 92, 69, 60, 87, 14, 91]"
   ]
  },
  {
   "cell_type": "code",
   "execution_count": 8,
   "metadata": {},
   "outputs": [
    {
     "name": "stdout",
     "output_type": "stream",
     "text": [
      "Standard Deviation: 28.923961615856765\n",
      "Range of the middle 50% of the sale: 55.5\n"
     ]
    }
   ],
   "source": [
    "# type your code here\n",
    "sales = [21, 93, 62, 76, 73, 20, 56, 95, 41, 36, 38, 13, 80, 88, 34, 18, 40, 11, 25, 29, 61, 23, 82, 10, 92, 69, 60, 87, 14, 91]\n",
    "std_sale = np.std(sales)\n",
    "print('Standard Deviation:', std_sale)\n",
    "Q1_sale = np.quantile(a = sales, q = 0.25)\n",
    "Q3_sale = np.quantile(a = sales, q = 0.75)\n",
    "IQR = Q3_sale - Q1_sale\n",
    "\n",
    "print('Range of the middle 50% of the sale:', IQR)"
   ]
  },
  {
   "cell_type": "markdown",
   "metadata": {
    "colab_type": "text",
    "id": "6YXVLVi9f98b"
   },
   "source": [
    "<table align=\"left\">\n",
    "    <tr>\n",
    "        <td width=\"6%\">\n",
    "            <img src=\"question_icon.png\">\n",
    "        </td>\n",
    "        <td>\n",
    "            <div align=\"left\", style=\"font-size:120%\">\n",
    "                <font color=\"#21618C\">\n",
    "                    <b>5. Again using the data of the previous question calculate the measure of skewness and kurtosis of ice-cream sales </b>\n",
    "                </font>\n",
    "            </div>\n",
    "        </td>\n",
    "    </tr>\n",
    "</table>"
   ]
  },
  {
   "cell_type": "markdown",
   "metadata": {},
   "source": [
    "Given Data \n",
    "\n",
    "sales = [21, 93, 62, 76, 73, 20, 56, 95, 41, 36, 38, 13, 80, 88, 34, 18, 40, 11, 25, 29, 61, 23, 82, 10, 92, 69, 60, 87, 14, 91]"
   ]
  },
  {
   "cell_type": "code",
   "execution_count": 9,
   "metadata": {},
   "outputs": [
    {
     "name": "stdout",
     "output_type": "stream",
     "text": [
      "Skewness of Sale: 0.08916446718602886\n",
      "Kurtosis of Sale: -1.4821565080588839\n"
     ]
    }
   ],
   "source": [
    "# type your code here\n",
    "sales = [21, 93, 62, 76, 73, 20, 56, 95, 41, 36, 38, 13, 80, 88, 34, 18, 40, 11, 25, 29, 61, 23, 82, 10, 92, 69, 60, 87, 14, 91]\n",
    "sale_skew = stats.skew(sales)\n",
    "print('Skewness of Sale:', sale_skew)\n",
    "\n",
    "\n",
    "sale_kurt = stats.kurtosis(sales)\n",
    "print('Kurtosis of Sale:', sale_kurt)"
   ]
  },
  {
   "cell_type": "markdown",
   "metadata": {
    "colab_type": "text",
    "id": "9qnEEhR4f98X"
   },
   "source": [
    "<table align=\"left\">\n",
    "    <tr>\n",
    "        <td width=\"6%\">\n",
    "            <img src=\"question_icon.png\">\n",
    "        </td>\n",
    "        <td>\n",
    "            <div align=\"left\", style=\"font-size:120%\">\n",
    "                <font color=\"#21618C\">\n",
    "                    <b>6. An ice-cream manufacturer wants to study the sales of ice-creams to decide the production policies of the company. He collects the data for the number of ice-creams sold in a month from all the 30 franchise. Additionally he also has data for the average work hours of each franchise last month. Is there a relationship between the sales and working hours. Comment on the nature of relationship .</b>\n",
    "                </font>\n",
    "            </div>\n",
    "        </td>\n",
    "    </tr>\n",
    "</table>"
   ]
  },
  {
   "cell_type": "markdown",
   "metadata": {},
   "source": [
    "Given Data \n",
    "\n",
    "sales = [21, 93, 62, 76, 73, 20, 56, 95, 41, 36, 38, 13, 80, 88, 34, 18, 40, 11, 25, 29, 61, 23, 82, 10, 92, 69, 60, 87, 14, 91]\n",
    "\n",
    "hours=[7, 9.5, 8, 8.5, 9, 6.5, 7, 10.5, 9, 7.5, 8, 6, 10, 8.5, 6, 6.5, 7, 5, 6.5, 6.5, 7.5, 6.5, 8, 8.5, 9.5, 10,7.5, 8.5, 6.5, 10.5] "
   ]
  },
  {
   "cell_type": "code",
   "execution_count": 11,
   "metadata": {},
   "outputs": [
    {
     "name": "stdout",
     "output_type": "stream",
     "text": [
      "Correlation coefficient: 0.8041722414371263\n"
     ]
    }
   ],
   "source": [
    "# type your code here\n",
    "sales = pd.Series([21, 93, 62, 76, 73, 20, 56, 95, 41, 36, 38, 13, 80, 88, 34, 18, 40, 11, 25, 29, 61, 23, 82, 10, 92, 69, 60, 87, 14, 91])\n",
    "\n",
    "hours=pd.Series([7, 9.5, 8, 8.5, 9, 6.5, 7, 10.5, 9, 7.5, 8, 6, 10, 8.5, 6, 6.5, 7, 5, 6.5, 6.5, 7.5, 6.5, 8, 8.5, 9.5, 10,7.5, 8.5, 6.5, 10.5])\n",
    "\n",
    "corr_coeff = hours.corr(sales)\n",
    "\n",
    "print('Correlation coefficient:', corr_coeff)"
   ]
  },
  {
   "cell_type": "markdown",
   "metadata": {
    "colab_type": "text",
    "id": "r4J-iIEhf98N"
   },
   "source": [
    "<a id = \"prob\"> </a>\n",
    "## 3. Probability"
   ]
  },
  {
   "cell_type": "markdown",
   "metadata": {
    "colab_type": "text",
    "id": "V7QJT8W9f98T"
   },
   "source": [
    "<table align=\"left\">\n",
    "    <tr>\n",
    "        <td width=\"6%\">\n",
    "            <img src=\"question_icon.png\">\n",
    "        </td>\n",
    "        <td>\n",
    "            <div align=\"left\", style=\"font-size:120%\">\n",
    "                <font color=\"#21618C\">\n",
    "                    <b>7. If the letters of the word MATHEMATICS are arranged in random, what is the probability that the two M's come together.</b>\n",
    "                </font>\n",
    "            </div>\n",
    "        </td>\n",
    "    </tr>\n",
    "</table>"
   ]
  },
  {
   "cell_type": "code",
   "execution_count": 3,
   "metadata": {},
   "outputs": [
    {
     "data": {
      "text/plain": [
       "0.18181818181818182"
      ]
     },
     "execution_count": 3,
     "metadata": {},
     "output_type": "execute_result"
    }
   ],
   "source": [
    "# type your code here\n",
    "no_of_M=2\n",
    "no_of_A=2\n",
    "no_of_T=2\n",
    "no_of_H=1\n",
    "no_of_E=1\n",
    "no_of_I=1\n",
    "no_of_C=1\n",
    "no_of_S=1\n",
    "lengthofword=len('MATHEMATICS')\n",
    "denominator=(factorial(no_of_M))*factorial(no_of_A)*factorial(no_of_T)*factorial(no_of_H)*factorial(no_of_E)*factorial(no_of_I)*factorial(no_of_C)*factorial(no_of_S)\n",
    "total_numberofwordsarranged=factorial(lengthofword)/denominator\n",
    "total_numberofwordsarranged\n",
    "\n",
    "#total no of ways mathematics can be arranged when M are arrange\n",
    "denom1=factorial(no_of_A)*factorial(no_of_T)*factorial(no_of_H)*factorial(no_of_E)*factorial(no_of_I)*factorial(no_of_C)*factorial(no_of_S)\n",
    "total_number_with2M=factorial(10)/denom1\n",
    "probability_2M=total_number_with2M/total_numberofwordsarranged\n",
    "\n",
    "\n",
    "probability_2M"
   ]
  },
  {
   "cell_type": "markdown",
   "metadata": {
    "colab_type": "text",
    "id": "V7QJT8W9f98T"
   },
   "source": [
    "<table align=\"left\">\n",
    "    <tr>\n",
    "        <td width=\"6%\">\n",
    "            <img src=\"question_icon.png\">\n",
    "        </td>\n",
    "        <td>\n",
    "            <div align=\"left\", style=\"font-size:120%\">\n",
    "                <font color=\"#21618C\">\n",
    "                    <b>8. If the letters of the word MATHEMATICS are arranged in random, what is the probability that the all the vowels come together.</b>\n",
    "                </font>\n",
    "            </div>\n",
    "        </td>\n",
    "    </tr>\n",
    "</table>"
   ]
  },
  {
   "cell_type": "code",
   "execution_count": 16,
   "metadata": {},
   "outputs": [
    {
     "name": "stdout",
     "output_type": "stream",
     "text": [
      "0.012121212121212121\n"
     ]
    }
   ],
   "source": [
    "# type your code here\n",
    "no_of_M=2\n",
    "no_of_A=2\n",
    "no_of_T=2\n",
    "no_of_H=1\n",
    "no_of_E=1\n",
    "no_of_I=1\n",
    "no_of_C=1\n",
    "no_of_S=1\n",
    "w=len('MATHEMATICS')\n",
    "no_of_vowels=4\n",
    "total_letters=11\n",
    "\n",
    "tol=factorial(w)/(factorial(no_of_M)*factorial(no_of_A)*factorial(no_of_T)*factorial(no_of_H)*factorial(no_of_E)*factorial(no_of_I)*factorial(no_of_C)*factorial(no_of_S))\n",
    "vow=(factorial(8)/(factorial(no_of_M)*factorial(no_of_A)*factorial(no_of_T)*factorial(no_of_H)*factorial(no_of_E)*factorial(no_of_I)*factorial(no_of_C)*factorial(no_of_S))*(factorial(4)/factorial(no_of_A)))\n",
    "final=vow/tol\n",
    "print(final)"
   ]
  },
  {
   "cell_type": "markdown",
   "metadata": {
    "colab_type": "text",
    "id": "V7QJT8W9f98T"
   },
   "source": [
    "<table align=\"left\">\n",
    "    <tr>\n",
    "        <td width=\"6%\">\n",
    "            <img src=\"question_icon.png\">\n",
    "        </td>\n",
    "        <td>\n",
    "            <div align=\"left\", style=\"font-size:120%\">\n",
    "                <font color=\"#21618C\">\n",
    "                    <b>9. The odds that it will rain tomorrow is 15:10. What is the probability that it will not rain tomorrow. </b>\n",
    "                </font>\n",
    "            </div>\n",
    "        </td>\n",
    "    </tr>\n",
    "</table>"
   ]
  },
  {
   "cell_type": "code",
   "execution_count": 12,
   "metadata": {},
   "outputs": [
    {
     "name": "stdout",
     "output_type": "stream",
     "text": [
      "The probability that the person is fit is 0.4\n"
     ]
    }
   ],
   "source": [
    "# type your code here\n",
    "a = 15 \n",
    "b = 10\n",
    "\n",
    "# required probability is that the person is fit\n",
    "# let, A: The person is either overweight or obese\n",
    "# to find: P(A') = 1 - P(A)\n",
    "req_prob = 1 - (a/(a+b))\n",
    "\n",
    "print('The probability that the person is fit is', req_prob)"
   ]
  },
  {
   "cell_type": "markdown",
   "metadata": {
    "colab_type": "text",
    "id": "V7QJT8W9f98T"
   },
   "source": [
    "<table align=\"left\">\n",
    "    <tr>\n",
    "        <td width=\"6%\">\n",
    "            <img src=\"question_icon.png\">\n",
    "        </td>\n",
    "        <td>\n",
    "            <div align=\"left\", style=\"font-size:120%\">\n",
    "                <font color=\"#21618C\">\n",
    "                    <b>10. In a company there are 95 employees. Out of these 70 employees received an incentive whereas 25 did not. In the previous year 40 employees had undergone a special training. Thirty of the employee who had attended the training  received the incentive. What is the probability that a person who received an incentive had done the training.</b>\n",
    "                </font>\n",
    "            </div>\n",
    "        </td>\n",
    "    </tr>\n",
    "</table>"
   ]
  },
  {
   "cell_type": "markdown",
   "metadata": {},
   "source": [
    "### Example:\n",
    "<table align=\"center\" width=350>\n",
    "    <tr>\n",
    "        <td width=\"20%\">\n",
    "            <img src=\"matrix.png\">\n",
    "        </td>\n",
    "    </tr>\n",
    "</table>"
   ]
  },
  {
   "cell_type": "code",
   "execution_count": 17,
   "metadata": {},
   "outputs": [
    {
     "data": {
      "text/plain": [
       "0.48214285714285715"
      ]
     },
     "execution_count": 17,
     "metadata": {},
     "output_type": "execute_result"
    }
   ],
   "source": [
    "# type your code here\n",
    "p_i=70/95\n",
    "p_t=45/95\n",
    "p_ig=30/40\n",
    "p_tgivenincentive=p_ig*p_t/p_i\n",
    "\n",
    "p_tgivenincentive"
   ]
  }
 ],
 "metadata": {
  "colab": {
   "name": "ITP - In-Class Lab Exercise (Day1) - Solutions [V1.0 030120].ipynb",
   "provenance": []
  },
  "kernelspec": {
   "display_name": "Python 3 (ipykernel)",
   "language": "python",
   "name": "python3"
  },
  "language_info": {
   "codemirror_mode": {
    "name": "ipython",
    "version": 3
   },
   "file_extension": ".py",
   "mimetype": "text/x-python",
   "name": "python",
   "nbconvert_exporter": "python",
   "pygments_lexer": "ipython3",
   "version": "3.9.7"
  }
 },
 "nbformat": 4,
 "nbformat_minor": 1
}

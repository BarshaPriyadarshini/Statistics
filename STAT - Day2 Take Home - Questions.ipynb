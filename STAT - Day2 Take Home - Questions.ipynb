{
 "cells": [
  {
   "cell_type": "markdown",
   "metadata": {},
   "source": [
    "<table align=\"center\" width=100%>\n",
    "    <tr>\n",
    "        <td width=\"20%\">\n",
    "            <img src=\"GL-2.png\">\n",
    "        </td>\n",
    "        <td>\n",
    "            <div align=\"center\">\n",
    "                <font color=\"#21618C\" size=8px>\n",
    "                    <b> Take Home <br>(Day 2)\n",
    "                    </b>\n",
    "                </font>\n",
    "            </div>\n",
    "        </td>\n",
    "    </tr>\n",
    "</table>"
   ]
  },
  {
   "cell_type": "markdown",
   "metadata": {},
   "source": [
    "## Table of Content\n",
    "\n",
    "1. **[Binomial Distributions](#BDist)**\n",
    "2. **[Normal Distributions](#NDist)**\n",
    "2. **[Central Limit Theorem](#CLT)**"
   ]
  },
  {
   "cell_type": "markdown",
   "metadata": {},
   "source": [
    "**Import the required libraries**"
   ]
  },
  {
   "cell_type": "code",
   "execution_count": 1,
   "metadata": {},
   "outputs": [],
   "source": [
    "import pandas as pd \n",
    "import numpy as np\n",
    "import matplotlib.pyplot as plt\n",
    "from matplotlib import gridspec\n",
    "%matplotlib inline\n",
    "import seaborn as sns\n",
    "from warnings import filterwarnings\n",
    "filterwarnings('ignore')\n",
    "from math import factorial\n",
    "from scipy import stats\n",
    "from scipy.stats import randint\n",
    "from scipy.stats import skewnorm\n",
    "import random"
   ]
  },
  {
   "cell_type": "markdown",
   "metadata": {},
   "source": [
    "### Let's begin with some hands-on practice exercises"
   ]
  },
  {
   "cell_type": "markdown",
   "metadata": {},
   "source": [
    "<a id= \"BDist\"></a>\n",
    "## 1. Binomial Distributions"
   ]
  },
  {
   "cell_type": "markdown",
   "metadata": {
    "collapsed": true
   },
   "source": [
    "<table align=\"left\">\n",
    "    <tr>\n",
    "        <td width=\"6%\">\n",
    "            <img src=\"question_icon.png\">\n",
    "        </td>\n",
    "        <td>\n",
    "            <div align=\"left\", style=\"font-size:120%\">\n",
    "                <font color=\"#21618C\">\n",
    "                    <b>1. In a factory, the probability of producing a defective plastic box is 0.32. A sample of 50 boxes is collected. What is the probability that exactly 15 boxes are defective?\n",
    "</b>\n",
    "                </font>\n",
    "            </div>\n",
    "        </td>\n",
    "    </tr>\n",
    "</table>"
   ]
  },
  {
   "cell_type": "code",
   "execution_count": 7,
   "metadata": {},
   "outputs": [
    {
     "name": "stdout",
     "output_type": "stream",
     "text": [
      "he probability that exactly 15 boxes are defective 0.117\n"
     ]
    }
   ],
   "source": [
    "# type your code here\n",
    "p=0.32\n",
    "n=50\n",
    "k=15\n",
    "prob_of_15_box_defective=round(stats.binom.pmf(k=15,n=50,p=0.32),3)\n",
    "print('he probability that exactly 15 boxes are defective',prob_of_15_box_defective)"
   ]
  },
  {
   "cell_type": "markdown",
   "metadata": {
    "collapsed": true
   },
   "source": [
    "<table align=\"left\">\n",
    "    <tr>\n",
    "        <td width=\"6%\">\n",
    "            <img src=\"question_icon.png\">\n",
    "        </td>\n",
    "        <td>\n",
    "            <div align=\"left\", style=\"font-size:120%\">\n",
    "                <font color=\"#21618C\">\n",
    "                    <b>2.Raj Supermarket  sells products like milk, bread, egg, fruits and vegetables. It is observed that 30% of their customers complain about the products purchased by them for many reasons. On Friday, 20 customers purchased  products from Raj Supermarket.Calculate the probability that exactly 4 customers will complain about the purchased products. \n",
    "                </font>\n",
    "            </div>\n",
    "        </td>\n",
    "    </tr>\n",
    "</table>"
   ]
  },
  {
   "cell_type": "code",
   "execution_count": 8,
   "metadata": {},
   "outputs": [
    {
     "name": "stdout",
     "output_type": "stream",
     "text": [
      " the probability that exactly 4 customers will complain about the purchased products 0.13\n"
     ]
    }
   ],
   "source": [
    "# type your code here\n",
    "p=0.3\n",
    "n=20\n",
    "k=4\n",
    "prob_of_exactly_4customer=round(stats.binom.pmf(k=4,n=20,p=0.3),2)\n",
    "print(' the probability that exactly 4 customers will complain about the purchased products',prob_of_exactly_4customer)"
   ]
  },
  {
   "cell_type": "markdown",
   "metadata": {
    "collapsed": true
   },
   "source": [
    "<table align=\"left\">\n",
    "    <tr>\n",
    "        <td width=\"6%\">\n",
    "            <img src=\"question_icon.png\">\n",
    "        </td>\n",
    "        <td>\n",
    "            <div align=\"left\", style=\"font-size:120%\">\n",
    "                <font color=\"#21618C\">\n",
    "                <b>3.Raj Supermarket  sells products like milk, bread, egg, fruits and vegetables. It is observed that 30% of their customers complain about the products purchased by them for many reasons. On Friday, 20 customers purchased  products from Raj Supermarket.Calculate the probability that more than 4 customers will complain about the furniture purchased by them.</b>\n",
    "                </font>\n",
    "            </div>\n",
    "        </td>\n",
    "    </tr>\n",
    "</table>"
   ]
  },
  {
   "cell_type": "code",
   "execution_count": 10,
   "metadata": {},
   "outputs": [
    {
     "name": "stdout",
     "output_type": "stream",
     "text": [
      " the probability that more than 4 customers will complain about the purchased products 0.762\n"
     ]
    }
   ],
   "source": [
    "# type your code here\n",
    "p=0.3\n",
    "n=20\n",
    "k=4\n",
    "prob_of_morethan_4customer=round(stats.binom.sf(k=4,n=20,p=0.3),3)\n",
    "print(' the probability that more than 4 customers will complain about the purchased products',prob_of_morethan_4customer)"
   ]
  },
  {
   "cell_type": "markdown",
   "metadata": {},
   "source": [
    "<a id= \"NDist\"></a>\n",
    "## 2. Normal Distributions"
   ]
  },
  {
   "cell_type": "markdown",
   "metadata": {
    "collapsed": true
   },
   "source": [
    "<table align=\"left\">\n",
    "    <tr>\n",
    "        <td width=\"6%\">\n",
    "            <img src=\"question_icon.png\">\n",
    "        </td>\n",
    "        <td>\n",
    "            <div align=\"left\", style=\"font-size:120%\">\n",
    "                <font color=\"#21618C\">\n",
    "                    <b>4. The dietician has offered a meal plan for 30 patients. After two months of starting the diet, she has collected the data of weights for all the patients. The average weight is 80 kg with a standard deviation of 20 kg. What is the probability that the weight of a person is between 75 to 85 kg? Assume that the data is normally distributed. </b>\n",
    "                </font>\n",
    "            </div>\n",
    "        </td>\n",
    "    </tr>\n",
    "</table>"
   ]
  },
  {
   "cell_type": "code",
   "execution_count": 12,
   "metadata": {},
   "outputs": [
    {
     "name": "stdout",
     "output_type": "stream",
     "text": [
      "The probability that the weight of a person is between 75 to 85 kg is 0.197\n"
     ]
    }
   ],
   "source": [
    "# type your code here\n",
    "mean=80\n",
    "stdev=20\n",
    "X1=75\n",
    "X2=85\n",
    "Z1=(X1-mean)/stdev\n",
    "Z2=(X2-mean)/stdev\n",
    "prob_between75_85=stats.norm.cdf(Z2)-stats.norm.cdf(Z1)\n",
    "\n",
    "print('The probability that the weight of a person is between 75 to 85 kg is', round(prob_between75_85,3))"
   ]
  },
  {
   "cell_type": "markdown",
   "metadata": {
    "collapsed": true
   },
   "source": [
    "<table align=\"left\">\n",
    "    <tr>\n",
    "        <td width=\"6%\">\n",
    "            <img src=\"question_icon.png\">\n",
    "        </td>\n",
    "        <td>\n",
    "            <div align=\"left\", style=\"font-size:120%\">\n",
    "                <font color=\"#21618C\">\n",
    "                    <b>5. The survey by road safety department states that the in the Oneonta city the average speed of vehicle is 65 mph and the standard deviation is 9 mph. Find the probability that a randomly selected vehicle has a speed greater than 78 mph.\n",
    "</b>\n",
    "                </font>\n",
    "            </div>\n",
    "        </td>\n",
    "    </tr>\n",
    "</table>"
   ]
  },
  {
   "cell_type": "code",
   "execution_count": 14,
   "metadata": {},
   "outputs": [
    {
     "name": "stdout",
     "output_type": "stream",
     "text": [
      "the probability that a randomly selected vehicle has a speed greater than 78 mph 0.074\n"
     ]
    }
   ],
   "source": [
    "# type your code here\n",
    "avg=65\n",
    "std=9\n",
    "x=78\n",
    "z=(x-avg)/std\n",
    "prob_greaterthan_78=stats.norm.sf(z)\n",
    "print('the probability that a randomly selected vehicle has a speed greater than 78 mph',round(prob_greaterthan_78,3))"
   ]
  },
  {
   "cell_type": "markdown",
   "metadata": {
    "collapsed": true
   },
   "source": [
    "<table align=\"left\">\n",
    "    <tr>\n",
    "        <td width=\"6%\">\n",
    "            <img src=\"question_icon.png\">\n",
    "        </td>\n",
    "        <td>\n",
    "            <div align=\"left\", style=\"font-size:120%\">\n",
    "                <font color=\"#21618C\">\n",
    "                    <b>6. The fill amount in 2-liter soft drink bottles is normally distributed, with a mean of 2.0 liters and a standard deviation of 0.05 liter. If the bottles contain less than 95% of the listed net content (1.90 liters, in our case), the manufacturer may be subject to penalty by the state office of consumer affairs. Bottles that have a net content above 2.1 liters may cause excess spillage upon opening. What is the proportion of bottles that will contain:\n",
    " </b>\n",
    "                </font>\n",
    "            </div>\n",
    "        </td>\n",
    "    </tr>\n",
    "</table>"
   ]
  },
  {
   "cell_type": "markdown",
   "metadata": {},
   "source": [
    "<table align=\"left\">\n",
    "    <tr>\n",
    "        <td width=\"6%\">\n",
    "            <img src=\"question_icon.png\">\n",
    "        </td>\n",
    "        <td>\n",
    "            <div align=\"left\", style=\"font-size:120%\">\n",
    "                <font color=\"#21618C\">\n",
    "                    <b>a. between 1.9 and 2.0 liters</b>\n",
    "                </font>\n",
    "            </div>\n",
    "        </td>\n",
    "    </tr>\n",
    "</table>"
   ]
  },
  {
   "cell_type": "code",
   "execution_count": 15,
   "metadata": {},
   "outputs": [
    {
     "name": "stdout",
     "output_type": "stream",
     "text": [
      "proportion of 1.9 between 2.0 is 0.477\n"
     ]
    }
   ],
   "source": [
    "# type your code here\n",
    "mean=2.0\n",
    "std=0.05\n",
    "x1=1.9\n",
    "x2=2.0\n",
    "z_for_1_9 = (x1 - mean)/std\n",
    "prob_1_9= stats.norm.cdf(z_for_1_9)\n",
    "z_for_2_0 = (x2- mean)/std\n",
    "prob_2_0= stats.norm.cdf(z_for_2_0)\n",
    "\n",
    "print(\"proportion of 1.9 between 2.0 is\",round(prob_2_0-prob_1_9,3))"
   ]
  },
  {
   "cell_type": "markdown",
   "metadata": {
    "collapsed": true
   },
   "source": [
    "<table align=\"left\">\n",
    "    <tr>\n",
    "        <td width=\"6%\">\n",
    "            <img src=\"question_icon.png\">\n",
    "        </td>\n",
    "        <td>\n",
    "            <div align=\"left\", style=\"font-size:120%\">\n",
    "                <font color=\"#21618C\">\n",
    "                    <b>b.between 1.9 and 2.1 liters</b>\n",
    "                </font>\n",
    "            </div>\n",
    "        </td>\n",
    "    </tr>\n",
    "</table>"
   ]
  },
  {
   "cell_type": "code",
   "execution_count": 17,
   "metadata": {},
   "outputs": [
    {
     "name": "stdout",
     "output_type": "stream",
     "text": [
      "proportion of 1.9 between 2.1 is 0.954\n"
     ]
    }
   ],
   "source": [
    "# type your code here\n",
    "mean=2.0\n",
    "std=0.05\n",
    "x1=1.9\n",
    "x2=2.1\n",
    "z_for_1_9 = (x1 - mean)/std\n",
    "prob_1_9= stats.norm.cdf(z_for_1_9)\n",
    "z_for_2_1 = (x2- mean)/std\n",
    "prob_2_1= stats.norm.cdf(z_for_2_1)\n",
    "\n",
    "print(\"proportion of 1.9 between 2.1 is\",round(prob_2_1-prob_1_9,3))"
   ]
  },
  {
   "cell_type": "markdown",
   "metadata": {
    "collapsed": true
   },
   "source": [
    "<table align=\"left\">\n",
    "    <tr>\n",
    "        <td width=\"6%\">\n",
    "            <img src=\"question_icon.png\">\n",
    "        </td>\n",
    "        <td>\n",
    "            <div align=\"left\", style=\"font-size:120%\">\n",
    "                <font color=\"#21618C\">\n",
    "                    <b>c. below 1.9 liters or above 2.1 liters</b>\n",
    "                </font>\n",
    "            </div>\n",
    "        </td>\n",
    "    </tr>\n",
    "</table>"
   ]
  },
  {
   "cell_type": "code",
   "execution_count": 18,
   "metadata": {},
   "outputs": [
    {
     "name": "stdout",
     "output_type": "stream",
     "text": [
      "proportion of 1below 1.9 liters or above 2.1 liters is 0.046\n"
     ]
    }
   ],
   "source": [
    "# type your code here\n",
    "mean=2.0\n",
    "std=0.05\n",
    "x1=1.9\n",
    "x2=2.1\n",
    "z_for_1_9 = (x1 - mean)/std\n",
    "prob_1_9= stats.norm.cdf(z_for_1_9)\n",
    "z_for_2_1 = (x2- mean)/std\n",
    "prob_2_1= stats.norm.sf(z_for_2_1)\n",
    "\n",
    "print(\"proportion of 1below 1.9 liters or above 2.1 liters is\",round(prob_2_1+prob_1_9,3))"
   ]
  },
  {
   "cell_type": "markdown",
   "metadata": {},
   "source": [
    "<a id=\"CLT\"></a>\n",
    "## 3. Central Limit Theorem"
   ]
  },
  {
   "cell_type": "markdown",
   "metadata": {
    "colab_type": "text",
    "id": "V7QJT8W9f98T"
   },
   "source": [
    "<table align=\"left\">\n",
    "    <tr>\n",
    "        <td width=\"6%\">\n",
    "            <img src=\"question_icon.png\">\n",
    "        </td>\n",
    "        <td>\n",
    "            <div align=\"left\", style=\"font-size:120%\">\n",
    "                <font color=\"#21618C\">\n",
    "                    <b>7. Perform Central Limit Theorem on Right Skewed data with sample size 100 and number of samples as 30.</b>\n",
    "                </font>\n",
    "            </div>\n",
    "        </td>\n",
    "    </tr>\n",
    "</table>"
   ]
  },
  {
   "cell_type": "code",
   "execution_count": 19,
   "metadata": {
    "scrolled": true
   },
   "outputs": [
    {
     "data": {
      "image/png": "[encoded data removed]",
      "text/plain": [
       "<Figure size 432x288 with 1 Axes>"
      ]
     },
     "metadata": {
      "needs_background": "light"
     },
     "output_type": "display_data"
    }
   ],
   "source": [
    "# type your code here\n",
    "from scipy.stats import skewnorm\n",
    "right_skew = 20\n",
    "pop = stats.skewnorm.rvs(right_skew,size = 50000)\n",
    "sns.kdeplot(pop)\n",
    "plt.show()"
   ]
  },
  {
   "cell_type": "code",
   "execution_count": 20,
   "metadata": {},
   "outputs": [],
   "source": [
    "S = []\n",
    "samples = 30\n",
    "for i in range(1,30):\n",
    "    x= random.sample(list(pop),100)\n",
    "    S.append(np.mean(x))"
   ]
  },
  {
   "cell_type": "code",
   "execution_count": 21,
   "metadata": {},
   "outputs": [
    {
     "data": {
      "image/png": "[encoded data removed]",
      "text/plain": [
       "<Figure size 432x288 with 1 Axes>"
      ]
     },
     "metadata": {
      "needs_background": "light"
     },
     "output_type": "display_data"
    }
   ],
   "source": [
    "sns.kdeplot(S)\n",
    "plt.show()"
   ]
  },
  {
   "cell_type": "code",
   "execution_count": 23,
   "metadata": {},
   "outputs": [
    {
     "name": "stdout",
     "output_type": "stream",
     "text": [
      "The population is 0.7995430895557982 and sample mean is 0.8312041492472918\n",
      "The population standard deviation divided by sample size 0.02 and sample sample standard deviation 0.07\n"
     ]
    }
   ],
   "source": [
    "print('The population is {} and sample mean is {}'.format(np.mean(pop),np.mean(S)))\n",
    "print('The population standard deviation divided by sample size {} and sample sample standard deviation {}'.format(round(np.std(pop)/len(S),2),round(np.std(S,ddof=1),2)))"
   ]
  },
  {
   "cell_type": "markdown",
   "metadata": {},
   "source": [
    "<table align=\"left\">\n",
    "    <tr>\n",
    "        <td width=\"6%\">\n",
    "            <img src=\"question_icon.png\">\n",
    "        </td>\n",
    "        <td>\n",
    "            <div align=\"left\", style=\"font-size:120%\">\n",
    "                <font color=\"#21618C\">\n",
    "                    <b>8. Indian Team players on average score 70 with a standard deviation of 30. Assume that the data is normally distributed. If a random sample of 25 match scores are selected,  what is the probability that the average score of the sample is less than 83?</b>\n",
    "                </font>\n",
    "            </div>\n",
    "        </td>\n",
    "    </tr>\n",
    "</table>"
   ]
  },
  {
   "cell_type": "code",
   "execution_count": 27,
   "metadata": {},
   "outputs": [
    {
     "name": "stdout",
     "output_type": "stream",
     "text": [
      "The probability that the average score of the sample is less than 83 is 0.985\n"
     ]
    }
   ],
   "source": [
    "# type your code here\n",
    "avg=70\n",
    "std=30\n",
    "n=25\n",
    "Xbar=83\n",
    "Z=(Xbar-avg)/(std/np.sqrt(n))\n",
    "prob_xbarlessthan83=stats.norm.cdf(Z)\n",
    "print('The probability that the average score of the sample is less than 83 is',round(prob_xbarlessthan83,3))\n"
   ]
  },
  {
   "cell_type": "markdown",
   "metadata": {},
   "source": [
    "<table align=\"left\">\n",
    "    <tr>\n",
    "        <td width=\"6%\">\n",
    "            <img src=\"question_icon.png\">\n",
    "        </td>\n",
    "        <td>\n",
    "            <div align=\"left\", style=\"font-size:120%\">\n",
    "                <font color=\"#21618C\">\n",
    "                    <b>9.The average profit of restaurants in Chennai is 7 Lakh INR with standard diviation of 1.3 Lakh INR. If a sample of 40 restaurants  are randomly selected, find the probability that the average profit of the sample is between 6.9 L to 7.1 L INR. </b>\n",
    "                </font>\n",
    "            </div>\n",
    "        </td>\n",
    "    </tr>\n",
    "</table>"
   ]
  },
  {
   "cell_type": "code",
   "execution_count": 31,
   "metadata": {},
   "outputs": [
    {
     "name": "stdout",
     "output_type": "stream",
     "text": [
      "the probability that the average profit of the sample is between 6.9 L to 7.1 L INR 0.835\n"
     ]
    }
   ],
   "source": [
    "# type your code here\n",
    "avg=700000\n",
    "std=130000\n",
    "n=40\n",
    "z=(710000-avg)/(std/np.sqrt(n))-(690000-avg)/(std/np.sqrt(n))\n",
    "prob_stats=stats.norm.cdf(z)\n",
    "print('the probability that the average profit of the sample is between 6.9 L to 7.1 L INR',round(prob_stats,3))"
   ]
  },
  {
   "cell_type": "markdown",
   "metadata": {},
   "source": [
    "<table align=\"left\">\n",
    "    <tr>\n",
    "        <td width=\"6%\">\n",
    "            <img src=\"question_icon.png\">\n",
    "        </td>\n",
    "        <td>\n",
    "            <div align=\"left\", style=\"font-size:120%\">\n",
    "                <font color=\"#21618C\">\n",
    "                    <b>10. The average score of the students at a Community College is 70% with a standard deviation of 20% and Assume that the data is normally distributed. If a random sample of 30 students are selected,  what is the probability that the average score of the sample is more than 77 %?</b>\n",
    "                </font>\n",
    "            </div>\n",
    "        </td>\n",
    "    </tr>\n",
    "</table>"
   ]
  },
  {
   "cell_type": "code",
   "execution_count": 35,
   "metadata": {},
   "outputs": [
    {
     "name": "stdout",
     "output_type": "stream",
     "text": [
      "The probability that the mean of the sample of 92 is  0.028\n"
     ]
    }
   ],
   "source": [
    "# type your code here\n",
    "avg=70\n",
    "std=20\n",
    "n=30\n",
    "z=(77-avg)/(std/np.sqrt(n))\n",
    "prob_stats=stats.norm.sf(z)\n",
    "\n",
    "print('The probability that the mean of the sample of 92 is ', round(prob_stats,3))"
   ]
  },
  {
   "cell_type": "code",
   "execution_count": null,
   "metadata": {},
   "outputs": [],
   "source": []
  }
 ],
 "metadata": {
  "kernelspec": {
   "display_name": "Python 3 (ipykernel)",
   "language": "python",
   "name": "python3"
  },
  "language_info": {
   "codemirror_mode": {
    "name": "ipython",
    "version": 3
   },
   "file_extension": ".py",
   "mimetype": "text/x-python",
   "name": "python",
   "nbconvert_exporter": "python",
   "pygments_lexer": "ipython3",
   "version": "3.9.7"
  }
 },
 "nbformat": 4,
 "nbformat_minor": 2
}
